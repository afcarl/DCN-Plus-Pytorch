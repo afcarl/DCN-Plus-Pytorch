{
 "cells": [
  {
   "cell_type": "code",
   "execution_count": 1,
   "metadata": {
    "collapsed": false
   },
   "outputs": [],
   "source": [
    "import torch\n",
    "import torch.nn as nn\n",
    "from torch.autograd import Variable\n",
    "import torch.optim as optim\n",
    "import torch.nn.functional as F\n",
    "import numpy as np\n",
    "import gensim\n",
    "import pickle\n",
    "USE_CUDA = torch.cuda.is_available()\n",
    "\n",
    "from data import load_squad_data,preprop,getBatch,pad_to_batch\n",
    "from model import CoattentionEncoder, DynamicDecoder"
   ]
  },
  {
   "cell_type": "code",
   "execution_count": 2,
   "metadata": {
    "collapsed": true
   },
   "outputs": [],
   "source": [
    "MAX_LEN=400"
   ]
  },
  {
   "cell_type": "code",
   "execution_count": 3,
   "metadata": {
    "collapsed": false,
    "scrolled": true
   },
   "outputs": [
    {
     "name": "stdout",
     "output_type": "stream",
     "text": [
      "Skipped 761, 86655 question/answer\n",
      "Successfully Build 114855 vocabs\n",
      "Preprop Complete!\n"
     ]
    }
   ],
   "source": [
    "dataset = load_squad_data('dataset/train-v1.1.json',MAX_LEN)\n",
    "word2index,train_data = preprop(dataset)"
   ]
  },
  {
   "cell_type": "code",
   "execution_count": 4,
   "metadata": {
    "collapsed": false
   },
   "outputs": [],
   "source": [
    "pickle.dump(word2index,open('dataset/vocab.squad','wb'))\n",
    "pickle.dump(train_data,open('dataset/train.squad','wb'))"
   ]
  },
  {
   "cell_type": "code",
   "execution_count": 5,
   "metadata": {
    "collapsed": false
   },
   "outputs": [
    {
     "name": "stdout",
     "output_type": "stream",
     "text": [
      "CPU times: user 5min 12s, sys: 2.31 s, total: 5min 14s\n",
      "Wall time: 5min 13s\n"
     ]
    }
   ],
   "source": [
    "%%time\n",
    "#python3 -m gensim.scripts.glove2word2vec --input  glove.840B.300d.txt --output glove.840B.300d.w2vformat.txt\n",
    "model = gensim.models.KeyedVectors.load_word2vec_format('dataset/glove.840B.300d.w2vformat.txt')"
   ]
  },
  {
   "cell_type": "code",
   "execution_count": 5,
   "metadata": {
    "collapsed": false
   },
   "outputs": [
    {
     "name": "stdout",
     "output_type": "stream",
     "text": [
      "22527 92328\n"
     ]
    }
   ],
   "source": [
    "# oov=[]\n",
    "# for k in word2index.keys():\n",
    "#     if k not in ['<pad>','<unk>','<s>','</s>'] and model.vocab.get(k) is None:\n",
    "#         oov.append(k)\n",
    "# for o in oov:\n",
    "#     word2index.pop(o)\n",
    "# print(len(oov),len(word2index))"
   ]
  },
  {
   "cell_type": "code",
   "execution_count": 6,
   "metadata": {
    "collapsed": false
   },
   "outputs": [],
   "source": [
    "pretrained = []\n",
    "\n",
    "for i in range(len(word2index)):\n",
    "    try:\n",
    "        pretrained.append(model[word2index[i]])\n",
    "    except:\n",
    "        pretrained.append(np.zeros(300))\n",
    "        \n",
    "pretrained_vectors = np.vstack(pretrained)"
   ]
  },
  {
   "cell_type": "code",
   "execution_count": 5,
   "metadata": {
    "collapsed": false
   },
   "outputs": [],
   "source": [
    "# del oov\n",
    "# del pretrained\n",
    "# del model\n",
    "\n",
    "# word2index,train_data = preprop(dataset,word2index)"
   ]
  },
  {
   "cell_type": "code",
   "execution_count": 9,
   "metadata": {
    "collapsed": false
   },
   "outputs": [],
   "source": [
    "RESTORE=False\n",
    "EMBED_SIZE=300\n",
    "HIDDEN_SIZE=200\n",
    "MAXOUT_POOL=4\n",
    "MAX_ITER=4\n",
    "BATCH_SIZE=64\n",
    "STEP=50\n",
    "LR=0.001\n",
    "encoder = CoattentionEncoder(len(word2index),EMBED_SIZE,HIDDEN_SIZE)\n",
    "decoder = DynamicDecoder(HIDDEN_SIZE,MAXOUT_POOL,max_iter=MAX_ITER)\n",
    "encoder.init_embed(pretrained_vectors,is_static=False)\n",
    "\n",
    "if RESTORE:\n",
    "    encoder.load_state_dict(torch.load('models/enc_params.pkl'))\n",
    "    decoder.load_state_dict(torch.load('models/dec_params.pkl'))\n",
    "\n",
    "if USE_CUDA:\n",
    "    encoder.use_cuda=True\n",
    "    decoder.use_cuda=True\n",
    "    encoder = encoder.cuda()\n",
    "    decoder = decoder.cuda()\n",
    "loss_function = nn.CrossEntropyLoss()\n",
    "enc_optim = optim.Adam(filter(lambda p: p.requires_grad, encoder.parameters()),lr=LR)\n",
    "dec_optim = optim.Adam(decoder.parameters(),lr=LR)"
   ]
  },
  {
   "cell_type": "code",
   "execution_count": 9,
   "metadata": {
    "collapsed": true
   },
   "outputs": [],
   "source": [
    "LR=0.0001\n",
    "enc_optim = optim.Adam(filter(lambda p: p.requires_grad, encoder.parameters()),lr=LR)\n",
    "dec_optim = optim.Adam(decoder.parameters(),lr=LR)"
   ]
  },
  {
   "cell_type": "code",
   "execution_count": 10,
   "metadata": {
    "collapsed": false
   },
   "outputs": [
    {
     "name": "stdout",
     "output_type": "stream",
     "text": [
      "[0/50] [0/1353] loss : 57.169\n",
      "[0/50] [100/1353] loss : 49.803\n",
      "[0/50] [200/1353] loss : 44.247\n",
      "[0/50] [300/1353] loss : 42.723\n",
      "[0/50] [400/1353] loss : 42.139\n",
      "[0/50] [500/1353] loss : 41.574\n",
      "[0/50] [600/1353] loss : 41.339\n",
      "[0/50] [700/1353] loss : 40.882\n",
      "[0/50] [800/1353] loss : 40.487\n",
      "[0/50] [900/1353] loss : 39.597\n",
      "[0/50] [1000/1353] loss : 39.417\n",
      "[0/50] [1100/1353] loss : 38.186\n",
      "[0/50] [1200/1353] loss : 37.954\n",
      "[0/50] [1300/1353] loss : 37.443\n",
      "[1/50] [0/1353] loss : 37.994\n",
      "[1/50] [100/1353] loss : 34.126\n",
      "[1/50] [200/1353] loss : 33.856\n",
      "[1/50] [300/1353] loss : 33.781\n",
      "[1/50] [400/1353] loss : 33.393\n",
      "[1/50] [500/1353] loss : 33.480\n",
      "[1/50] [600/1353] loss : 33.275\n",
      "[1/50] [700/1353] loss : 33.195\n",
      "[1/50] [800/1353] loss : 33.079\n",
      "[1/50] [900/1353] loss : 32.664\n",
      "[1/50] [1000/1353] loss : 31.922\n",
      "[1/50] [1100/1353] loss : 31.370\n",
      "[1/50] [1200/1353] loss : 31.049\n",
      "[1/50] [1300/1353] loss : 30.029\n",
      "[2/50] [0/1353] loss : 27.418\n",
      "[2/50] [100/1353] loss : 23.787\n",
      "[2/50] [200/1353] loss : 23.214\n",
      "[2/50] [300/1353] loss : 22.698\n",
      "[2/50] [400/1353] loss : 22.584\n",
      "[2/50] [500/1353] loss : 22.113\n",
      "[2/50] [600/1353] loss : 21.969\n",
      "[2/50] [700/1353] loss : 22.145\n",
      "[2/50] [800/1353] loss : 22.136\n",
      "[2/50] [900/1353] loss : 21.586\n",
      "[2/50] [1000/1353] loss : 21.397\n",
      "[2/50] [1100/1353] loss : 21.328\n",
      "[2/50] [1200/1353] loss : 21.595\n",
      "[2/50] [1300/1353] loss : 21.347\n",
      "[3/50] [0/1353] loss : 14.962\n",
      "[3/50] [100/1353] loss : 15.796\n",
      "[3/50] [200/1353] loss : 15.703\n",
      "[3/50] [300/1353] loss : 15.979\n",
      "[3/50] [400/1353] loss : 16.140\n",
      "[3/50] [500/1353] loss : 16.405\n",
      "[3/50] [600/1353] loss : 16.688\n",
      "[3/50] [700/1353] loss : 16.830\n",
      "[3/50] [800/1353] loss : 16.487\n",
      "[3/50] [900/1353] loss : 16.759\n",
      "[3/50] [1000/1353] loss : 16.826\n",
      "[3/50] [1100/1353] loss : 16.820\n",
      "[3/50] [1200/1353] loss : 17.060\n",
      "[3/50] [1300/1353] loss : 16.846\n",
      "[4/50] [0/1353] loss : 11.474\n",
      "[4/50] [100/1353] loss : 12.707\n",
      "[4/50] [200/1353] loss : 12.845\n",
      "[4/50] [300/1353] loss : 12.956\n",
      "[4/50] [400/1353] loss : 13.084\n",
      "[4/50] [500/1353] loss : 13.194\n",
      "[4/50] [600/1353] loss : 13.273\n",
      "[4/50] [700/1353] loss : 13.553\n",
      "[4/50] [800/1353] loss : 13.503\n",
      "[4/50] [900/1353] loss : 13.383\n",
      "[4/50] [1000/1353] loss : 13.895\n",
      "[4/50] [1100/1353] loss : 14.197\n",
      "[4/50] [1200/1353] loss : 14.133\n",
      "[4/50] [1300/1353] loss : 13.979\n",
      "[5/50] [0/1353] loss : 10.985\n",
      "[5/50] [100/1353] loss : 10.916\n",
      "[5/50] [200/1353] loss : 10.784\n",
      "[5/50] [300/1353] loss : 11.114\n",
      "[5/50] [400/1353] loss : 10.941\n",
      "[5/50] [500/1353] loss : 11.175\n",
      "[5/50] [600/1353] loss : 11.487\n",
      "[5/50] [700/1353] loss : 11.717\n",
      "[5/50] [800/1353] loss : 11.674\n",
      "[5/50] [900/1353] loss : 11.778\n",
      "[5/50] [1000/1353] loss : 11.858\n",
      "[5/50] [1100/1353] loss : 11.944\n",
      "[5/50] [1200/1353] loss : 11.986\n",
      "[5/50] [1300/1353] loss : 12.614\n",
      "[6/50] [0/1353] loss : 7.982\n",
      "[6/50] [100/1353] loss : 9.567\n",
      "[6/50] [200/1353] loss : 9.792\n",
      "[6/50] [300/1353] loss : 9.697\n",
      "[6/50] [400/1353] loss : 10.097\n",
      "[6/50] [500/1353] loss : 9.910\n",
      "[6/50] [600/1353] loss : 10.225\n",
      "[6/50] [700/1353] loss : 10.271\n",
      "[6/50] [800/1353] loss : 10.445\n",
      "[6/50] [900/1353] loss : 10.326\n",
      "[6/50] [1000/1353] loss : 10.573\n",
      "[6/50] [1100/1353] loss : 10.626\n",
      "[6/50] [1200/1353] loss : 10.785\n",
      "[6/50] [1300/1353] loss : 10.840\n",
      "[7/50] [0/1353] loss : 8.931\n",
      "[7/50] [100/1353] loss : 8.619\n",
      "[7/50] [200/1353] loss : 8.854\n",
      "[7/50] [300/1353] loss : 9.063\n",
      "[7/50] [400/1353] loss : 9.053\n",
      "[7/50] [500/1353] loss : 9.152\n",
      "[7/50] [600/1353] loss : 9.164\n",
      "[7/50] [700/1353] loss : 9.373\n",
      "[7/50] [800/1353] loss : 9.321\n",
      "[7/50] [900/1353] loss : 9.471\n",
      "[7/50] [1000/1353] loss : 9.655\n",
      "[7/50] [1100/1353] loss : 9.744\n",
      "[7/50] [1200/1353] loss : 9.775\n",
      "[7/50] [1300/1353] loss : 9.876\n",
      "[8/50] [0/1353] loss : 7.220\n",
      "[8/50] [100/1353] loss : 8.073\n",
      "[8/50] [200/1353] loss : 8.105\n",
      "[8/50] [300/1353] loss : 8.184\n",
      "[8/50] [400/1353] loss : 8.225\n",
      "[8/50] [500/1353] loss : 8.506\n",
      "[8/50] [600/1353] loss : 8.416\n",
      "[8/50] [700/1353] loss : 8.544\n",
      "[8/50] [800/1353] loss : 8.479\n",
      "[8/50] [900/1353] loss : 8.924\n",
      "[8/50] [1000/1353] loss : 8.687\n",
      "[8/50] [1100/1353] loss : 8.815\n",
      "[8/50] [1200/1353] loss : 9.140\n",
      "[8/50] [1300/1353] loss : 9.160\n",
      "[9/50] [0/1353] loss : 6.948\n",
      "[9/50] [100/1353] loss : 7.547\n",
      "[9/50] [200/1353] loss : 7.502\n",
      "[9/50] [300/1353] loss : 7.776\n",
      "[9/50] [400/1353] loss : 7.722\n",
      "[9/50] [500/1353] loss : 7.870\n",
      "[9/50] [600/1353] loss : 7.828\n",
      "[9/50] [700/1353] loss : 8.053\n",
      "[9/50] [800/1353] loss : 8.077\n",
      "[9/50] [900/1353] loss : 7.947\n",
      "[9/50] [1000/1353] loss : 8.218\n",
      "[9/50] [1100/1353] loss : 8.196\n",
      "[9/50] [1200/1353] loss : 8.260\n",
      "[9/50] [1300/1353] loss : 8.517\n",
      "[10/50] [0/1353] loss : 6.725\n",
      "[10/50] [100/1353] loss : 7.049\n",
      "[10/50] [200/1353] loss : 7.113\n",
      "[10/50] [300/1353] loss : 7.122\n",
      "[10/50] [400/1353] loss : 7.231\n",
      "[10/50] [500/1353] loss : 7.339\n",
      "[10/50] [600/1353] loss : 7.454\n",
      "[10/50] [700/1353] loss : 7.469\n",
      "[10/50] [800/1353] loss : 7.451\n",
      "[10/50] [900/1353] loss : 7.566\n",
      "[10/50] [1000/1353] loss : 7.797\n",
      "[10/50] [1100/1353] loss : 7.709\n",
      "[10/50] [1200/1353] loss : 7.705\n",
      "[10/50] [1300/1353] loss : 7.967\n",
      "[11/50] [0/1353] loss : 6.745\n",
      "[11/50] [100/1353] loss : 6.768\n",
      "[11/50] [200/1353] loss : 6.802\n",
      "[11/50] [300/1353] loss : 6.742\n",
      "[11/50] [400/1353] loss : 6.765\n",
      "[11/50] [500/1353] loss : 6.976\n",
      "[11/50] [600/1353] loss : 7.083\n",
      "[11/50] [700/1353] loss : 7.170\n",
      "[11/50] [800/1353] loss : 7.160\n",
      "[11/50] [900/1353] loss : 7.038\n",
      "[11/50] [1000/1353] loss : 7.318\n",
      "[11/50] [1100/1353] loss : 7.429\n",
      "[11/50] [1200/1353] loss : 7.339\n",
      "[11/50] [1300/1353] loss : 7.493\n",
      "[12/50] [0/1353] loss : 5.751\n"
     ]
    },
    {
     "ename": "KeyboardInterrupt",
     "evalue": "",
     "output_type": "error",
     "traceback": [
      "\u001b[0;31m---------------------------------------------------------------------------\u001b[0m",
      "\u001b[0;31mKeyboardInterrupt\u001b[0m                         Traceback (most recent call last)",
      "\u001b[0;32m<ipython-input-10-e71d36e884a8>\u001b[0m in \u001b[0;36m<module>\u001b[0;34m()\u001b[0m\n\u001b[1;32m     17\u001b[0m         \u001b[0mloss\u001b[0m \u001b[0;34m=\u001b[0m \u001b[0mloss_start\u001b[0m\u001b[0;34m+\u001b[0m\u001b[0mloss_end\u001b[0m\u001b[0;34m\u001b[0m\u001b[0m\n\u001b[1;32m     18\u001b[0m         \u001b[0mlosses\u001b[0m\u001b[0;34m.\u001b[0m\u001b[0mappend\u001b[0m\u001b[0;34m(\u001b[0m\u001b[0mloss\u001b[0m\u001b[0;34m.\u001b[0m\u001b[0mdata\u001b[0m\u001b[0;34m[\u001b[0m\u001b[0;36m0\u001b[0m\u001b[0;34m]\u001b[0m\u001b[0;34m)\u001b[0m\u001b[0;34m\u001b[0m\u001b[0m\n\u001b[0;32m---> 19\u001b[0;31m         \u001b[0mloss\u001b[0m\u001b[0;34m.\u001b[0m\u001b[0mbackward\u001b[0m\u001b[0;34m(\u001b[0m\u001b[0;34m)\u001b[0m\u001b[0;34m\u001b[0m\u001b[0m\n\u001b[0m\u001b[1;32m     20\u001b[0m         \u001b[0;31m#torch.nn.utils.clip_grad_norm(encoder.parameters(), 50) # gradient clipping\u001b[0m\u001b[0;34m\u001b[0m\u001b[0;34m\u001b[0m\u001b[0m\n\u001b[1;32m     21\u001b[0m         \u001b[0;31m#torch.nn.utils.clip_grad_norm(decoder.parameters(), 50)\u001b[0m\u001b[0;34m\u001b[0m\u001b[0;34m\u001b[0m\u001b[0m\n",
      "\u001b[0;32m/usr/local/lib/python3.5/dist-packages/torch/autograd/variable.py\u001b[0m in \u001b[0;36mbackward\u001b[0;34m(self, gradient, retain_graph, create_graph, retain_variables)\u001b[0m\n\u001b[1;32m    165\u001b[0m                 \u001b[0mVariable\u001b[0m\u001b[0;34m.\u001b[0m\u001b[0;34m\u001b[0m\u001b[0m\n\u001b[1;32m    166\u001b[0m         \"\"\"\n\u001b[0;32m--> 167\u001b[0;31m         \u001b[0mtorch\u001b[0m\u001b[0;34m.\u001b[0m\u001b[0mautograd\u001b[0m\u001b[0;34m.\u001b[0m\u001b[0mbackward\u001b[0m\u001b[0;34m(\u001b[0m\u001b[0mself\u001b[0m\u001b[0;34m,\u001b[0m \u001b[0mgradient\u001b[0m\u001b[0;34m,\u001b[0m \u001b[0mretain_graph\u001b[0m\u001b[0;34m,\u001b[0m \u001b[0mcreate_graph\u001b[0m\u001b[0;34m,\u001b[0m \u001b[0mretain_variables\u001b[0m\u001b[0;34m)\u001b[0m\u001b[0;34m\u001b[0m\u001b[0m\n\u001b[0m\u001b[1;32m    168\u001b[0m \u001b[0;34m\u001b[0m\u001b[0m\n\u001b[1;32m    169\u001b[0m     \u001b[0;32mdef\u001b[0m \u001b[0mregister_hook\u001b[0m\u001b[0;34m(\u001b[0m\u001b[0mself\u001b[0m\u001b[0;34m,\u001b[0m \u001b[0mhook\u001b[0m\u001b[0;34m)\u001b[0m\u001b[0;34m:\u001b[0m\u001b[0;34m\u001b[0m\u001b[0m\n",
      "\u001b[0;32m/usr/local/lib/python3.5/dist-packages/torch/autograd/__init__.py\u001b[0m in \u001b[0;36mbackward\u001b[0;34m(variables, grad_variables, retain_graph, create_graph, retain_variables)\u001b[0m\n\u001b[1;32m     97\u001b[0m \u001b[0;34m\u001b[0m\u001b[0m\n\u001b[1;32m     98\u001b[0m     Variable._execution_engine.run_backward(\n\u001b[0;32m---> 99\u001b[0;31m         variables, grad_variables, retain_graph)\n\u001b[0m\u001b[1;32m    100\u001b[0m \u001b[0;34m\u001b[0m\u001b[0m\n\u001b[1;32m    101\u001b[0m \u001b[0;34m\u001b[0m\u001b[0m\n",
      "\u001b[0;31mKeyboardInterrupt\u001b[0m: "
     ]
    }
   ],
   "source": [
    "for step in range(STEP):\n",
    "    losses=[]\n",
    "    for i,batch in enumerate(getBatch(BATCH_SIZE,train_data)):\n",
    "        documents,questions,starts,ends = pad_to_batch(batch,word2index)\n",
    "\n",
    "        encoder.zero_grad()\n",
    "        decoder.zero_grad()\n",
    "        U = encoder(documents,questions,True)\n",
    "        _,_,entropies = decoder(U,True)\n",
    "\n",
    "        s_ents, e_ents = list(zip(*entropies)) # x MAX_ITER\n",
    "        loss_start,loss_end=0,0\n",
    "        for m in range(MAX_ITER+1):\n",
    "            loss_start+=loss_function(s_ents[m],starts.view(-1))\n",
    "            loss_end+=loss_function(s_ents[m],ends.view(-1))\n",
    "\n",
    "        loss = loss_start+loss_end\n",
    "        losses.append(loss.data[0])\n",
    "        loss.backward()\n",
    "        #torch.nn.utils.clip_grad_norm(encoder.parameters(), 50) # gradient clipping\n",
    "        #torch.nn.utils.clip_grad_norm(decoder.parameters(), 50) \n",
    "        enc_optim.step()\n",
    "        dec_optim.step()\n",
    "        \n",
    "        if i % 100 == 0:\n",
    "            print(\"[%d/%d] [%d/%d] loss : %.3f\" % (step,STEP,i,len(train_data)//BATCH_SIZE,np.mean(losses)))\n",
    "            losses=[]"
   ]
  },
  {
   "cell_type": "code",
   "execution_count": 11,
   "metadata": {
    "collapsed": true
   },
   "outputs": [],
   "source": [
    "import random"
   ]
  },
  {
   "cell_type": "code",
   "execution_count": 26,
   "metadata": {
    "collapsed": true
   },
   "outputs": [],
   "source": [
    "encoder = encoder.cuda()\n",
    "decoder = decoder.cuda()"
   ]
  },
  {
   "cell_type": "code",
   "execution_count": 39,
   "metadata": {
    "collapsed": false
   },
   "outputs": [
    {
     "name": "stdout",
     "output_type": "stream",
     "text": [
      "Variable containing:\n",
      " 5\n",
      "[torch.cuda.LongTensor of size 1 (GPU 0)]\n",
      " Variable containing:\n",
      " 6\n",
      "[torch.cuda.LongTensor of size 1 (GPU 0)]\n",
      "\n",
      "Variable containing:\n",
      " 5\n",
      "[torch.cuda.LongTensor of size 1x1 (GPU 0)]\n",
      " Variable containing:\n",
      " 6\n",
      "[torch.cuda.LongTensor of size 1x1 (GPU 0)]\n",
      "\n"
     ]
    }
   ],
   "source": [
    "i = random.choice(train_data)\n",
    "\n",
    "U = encoder(i[0],i[1])\n",
    "s,e,entropies = decoder(U)\n",
    "\n",
    "#         s_ents, e_ents = list(zip(*entropies)) \n",
    "print(s,e)\n",
    "print(i[2],i[3])"
   ]
  },
  {
   "cell_type": "code",
   "execution_count": 25,
   "metadata": {
    "collapsed": false
   },
   "outputs": [],
   "source": [
    "if USE_CUDA:\n",
    "    encoder = encoder.cpu()\n",
    "    decoder = decoder.cpu()\n",
    "torch.save(encoder.state_dict(), 'models/enc_params.pkl')\n",
    "torch.save(decoder.state_dict(), 'models/dec_params.pkl')"
   ]
  },
  {
   "cell_type": "code",
   "execution_count": null,
   "metadata": {
    "collapsed": true
   },
   "outputs": [],
   "source": []
  }
 ],
 "metadata": {
  "kernelspec": {
   "display_name": "Python 3",
   "language": "python",
   "name": "python3"
  },
  "language_info": {
   "codemirror_mode": {
    "name": "ipython",
    "version": 3
   },
   "file_extension": ".py",
   "mimetype": "text/x-python",
   "name": "python",
   "nbconvert_exporter": "python",
   "pygments_lexer": "ipython3",
   "version": "3.5.2"
  }
 },
 "nbformat": 4,
 "nbformat_minor": 2
}
