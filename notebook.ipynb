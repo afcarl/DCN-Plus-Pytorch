{
 "cells": [
  {
   "cell_type": "code",
   "execution_count": 1,
   "metadata": {
    "collapsed": false
   },
   "outputs": [],
   "source": [
    "import torch\n",
    "import torch.nn as nn\n",
    "from torch.autograd import Variable\n",
    "import torch.optim as optim\n",
    "import torch.nn.functional as F\n",
    "import numpy as np\n",
    "import gensim\n",
    "import pickle\n",
    "USE_CUDA = torch.cuda.is_available()\n",
    "\n",
    "from data import load_squad_data,preprop,getBatch,pad_to_batch\n",
    "from model import CoattentionEncoder, DynamicDecoder"
   ]
  },
  {
   "cell_type": "code",
   "execution_count": 2,
   "metadata": {
    "collapsed": true
   },
   "outputs": [],
   "source": [
    "MAX_LEN=400"
   ]
  },
  {
   "cell_type": "code",
   "execution_count": 4,
   "metadata": {
    "collapsed": false,
    "scrolled": true
   },
   "outputs": [
    {
     "name": "stdout",
     "output_type": "stream",
     "text": [
      "Skipped 761, 86655 question/answer\n",
      "Successfully Build 114855 vocabs\n",
      "Preprop Complete!\n"
     ]
    }
   ],
   "source": [
    "dataset = load_squad_data('dataset/train-v1.1.json',MAX_LEN)\n",
    "word2index,train_data = preprop(dataset)"
   ]
  },
  {
   "cell_type": "code",
   "execution_count": 5,
   "metadata": {
    "collapsed": false
   },
   "outputs": [],
   "source": [
    "pickle.dump(word2index,open('dataset/vocab.squad','wb'))\n",
    "pickle.dump(train_data,open('dataset/train.squad','wb'))"
   ]
  },
  {
   "cell_type": "code",
   "execution_count": 6,
   "metadata": {
    "collapsed": false
   },
   "outputs": [
    {
     "name": "stdout",
     "output_type": "stream",
     "text": [
      "CPU times: user 5min 27s, sys: 2.82 s, total: 5min 30s\n",
      "Wall time: 5min 38s\n"
     ]
    }
   ],
   "source": [
    "%%time\n",
    "#python3 -m gensim.scripts.glove2word2vec --input  glove.840B.300d.txt --output glove.840B.300d.w2vformat.txt\n",
    "model = gensim.models.KeyedVectors.load_word2vec_format('dataset/glove.840B.300d.w2vformat.txt')"
   ]
  },
  {
   "cell_type": "code",
   "execution_count": 7,
   "metadata": {
    "collapsed": false
   },
   "outputs": [],
   "source": [
    "pretrained = []\n",
    "\n",
    "for i in range(len(word2index)):\n",
    "    try:\n",
    "        pretrained.append(model[word2index[i]])\n",
    "    except:\n",
    "        pretrained.append(np.zeros(300))\n",
    "        \n",
    "pretrained_vectors = np.vstack(pretrained)"
   ]
  },
  {
   "cell_type": "code",
   "execution_count": null,
   "metadata": {
    "collapsed": false
   },
   "outputs": [],
   "source": [
    "RESTORE=False\n",
    "EMBED_SIZE=300\n",
    "HIDDEN_SIZE=200\n",
    "MAXOUT_POOL=4\n",
    "MAX_ITER=4\n",
    "BATCH_SIZE=32\n",
    "STEP=50\n",
    "LR=0.001\n",
    "encoder = CoattentionEncoder(len(word2index),EMBED_SIZE,HIDDEN_SIZE)\n",
    "decoder = DynamicDecoder(HIDDEN_SIZE,MAXOUT_POOL,max_iter=MAX_ITER)\n",
    "if RESTORE is False:\n",
    "    encoder.init_embed(pretrained_vectors,is_static=False)\n",
    "\n",
    "if RESTORE:\n",
    "    encoder.load_state_dict(torch.load('models/enc_params.pkl'))\n",
    "    decoder.load_state_dict(torch.load('models/dec_params.pkl'))\n",
    "\n",
    "if USE_CUDA:\n",
    "    encoder.use_cuda=True\n",
    "    decoder.use_cuda=True\n",
    "    encoder = encoder.cuda()\n",
    "    decoder = decoder.cuda()\n",
    "loss_function = nn.CrossEntropyLoss()\n",
    "enc_optim = optim.Adam(filter(lambda p: p.requires_grad, encoder.parameters()),lr=LR)\n",
    "dec_optim = optim.Adam(decoder.parameters(),lr=LR)"
   ]
  },
  {
   "cell_type": "code",
   "execution_count": null,
   "metadata": {
    "collapsed": true
   },
   "outputs": [],
   "source": [
    "# LR=0.00001\n",
    "# STEP=10\n",
    "# enc_optim = optim.Adam(filter(lambda p: p.requires_grad, encoder.parameters()),lr=LR)\n",
    "# dec_optim = optim.Adam(decoder.parameters(),lr=LR*5)"
   ]
  },
  {
   "cell_type": "code",
   "execution_count": null,
   "metadata": {
    "collapsed": false
   },
   "outputs": [
    {
     "name": "stdout",
     "output_type": "stream",
     "text": [
      "[0/50] [0/2707] loss : 55.557\n"
     ]
    }
   ],
   "source": [
    "for step in range(STEP):\n",
    "    losses=[]\n",
    "    for i,batch in enumerate(getBatch(BATCH_SIZE,train_data)):\n",
    "        documents,questions,doc_lens,question_lens,starts,ends = pad_to_batch(batch,word2index)\n",
    "\n",
    "        encoder.zero_grad()\n",
    "        decoder.zero_grad()\n",
    "        U = encoder(documents,questions,doc_lens,question_lens,True)\n",
    "        _,_,entropies = decoder(U,True)\n",
    "\n",
    "        s_ents, e_ents = list(zip(*entropies)) # x MAX_ITER\n",
    "        loss_start,loss_end=0,0\n",
    "        for m in range(MAX_ITER+1):\n",
    "            loss_start+=loss_function(s_ents[m],starts.view(-1))\n",
    "            loss_end+=loss_function(s_ents[m],ends.view(-1))\n",
    "\n",
    "        loss = loss_start+loss_end\n",
    "        losses.append(loss.data[0])\n",
    "        loss.backward()\n",
    "        #torch.nn.utils.clip_grad_norm(encoder.parameters(), 50) # gradient clipping\n",
    "        #torch.nn.utils.clip_grad_norm(decoder.parameters(), 50) \n",
    "        enc_optim.step()\n",
    "        dec_optim.step()\n",
    "        \n",
    "        if i % 100 == 0:\n",
    "            print(\"[%d/%d] [%d/%d] loss : %.3f\" % (step,STEP,i,len(train_data)//BATCH_SIZE,np.mean(losses)))\n",
    "            losses=[]"
   ]
  },
  {
   "cell_type": "markdown",
   "metadata": {},
   "source": [
    "### Test "
   ]
  },
  {
   "cell_type": "code",
   "execution_count": 6,
   "metadata": {
    "collapsed": true
   },
   "outputs": [],
   "source": [
    "import random\n",
    "index2word={v:k for k,v in word2index.items()}"
   ]
  },
  {
   "cell_type": "code",
   "execution_count": 155,
   "metadata": {
    "collapsed": true
   },
   "outputs": [],
   "source": [
    "encoder = encoder.cuda()\n",
    "decoder = decoder.cuda()"
   ]
  },
  {
   "cell_type": "code",
   "execution_count": 157,
   "metadata": {
    "collapsed": false
   },
   "outputs": [
    {
     "name": "stdout",
     "output_type": "stream",
     "text": [
      "Sky UK Limited ( formerly British Sky Broadcasting or BSkyB ) is a British telecommunications company which serves the United Kingdom . Sky provides television and broadband internet services and fixed line telephone services to consumers and businesses in the United Kingdom . It is the UK 's largest pay-TV broadcaster with 11 million customers as of 2015 . It was the UK 's most popular digital TV service until it was overtaken by Freeview in April 2007 . Its corporate headquarters are based in <unk> .\n",
      " \n",
      "How many customers does Sky UK Limited have as a pay-TV broadcaster as of 2015 ?\n",
      " \n",
      "Prediction :  million\n",
      "Groud Truth :  11 million\n"
     ]
    }
   ],
   "source": [
    "test = random.choice(test_data)\n",
    "\n",
    "U = encoder(test[0],test[1])\n",
    "s,e,entropies = decoder(U)\n",
    "\n",
    "#         s_ents, e_ents = list(zip(*entropies)) \n",
    "test_paragraph=[index2word[p] for p in test[0].data.tolist()[0]]\n",
    "print(\" \".join(test_paragraph))\n",
    "print(\" \")\n",
    "print(\" \".join([index2word[p] for p in test[1].data.tolist()[0]]))\n",
    "print(\" \")\n",
    "print(\"Prediction : \",\" \".join(test_paragraph[s.data[0]:e.data[0]+1]))\n",
    "print(\"Groud Truth : \",\" \".join(test_paragraph[test[2].data.tolist()[0][0]:test[3].data.tolist()[0][0]+1]))"
   ]
  },
  {
   "cell_type": "code",
   "execution_count": 57,
   "metadata": {
    "collapsed": false
   },
   "outputs": [
    {
     "name": "stdout",
     "output_type": "stream",
     "text": [
      "Skipped 177, 10384 question/answer\n",
      "Successfully Build 114855 vocabs\n",
      "Preprop Complete!\n"
     ]
    }
   ],
   "source": [
    "test_data = load_squad_data('./dataset/dev-v1.1.json')\n",
    "word2index, test_data = preprop(test_data,word2index)"
   ]
  },
  {
   "cell_type": "code",
   "execution_count": 159,
   "metadata": {
    "collapsed": false
   },
   "outputs": [
    {
     "name": "stdout",
     "output_type": "stream",
     "text": [
      "0.06666666666666667\n"
     ]
    }
   ],
   "source": [
    "overlap=0\n",
    "predicted=0\n",
    "truth=0\n",
    "\n",
    "for test in test_data:\n",
    "    U = encoder(test[0],test[1])\n",
    "    s,e,entropies = decoder(U)\n",
    "    \n",
    "    pred_span = list(range(s.data[0],e.data[0]+1))\n",
    "    truth_span = list(range(test[2].squeeze(0).data[0],test[3].squeeze(0).data[0]+1))\n",
    "    overlap+=len(set(truth_span) & set(pred_span))\n",
    "    predicted+=len(pred_span)\n",
    "    truth+=len(truth_span)\n",
    "#     break\n",
    "precision = overlap/predicted\n",
    "recall = overlap/truth\n",
    "\n",
    "f1_score = 2*precision*recall/(precision+recall)\n",
    "print(f1_score)"
   ]
  },
  {
   "cell_type": "code",
   "execution_count": 151,
   "metadata": {
    "collapsed": false
   },
   "outputs": [],
   "source": [
    "import datetime\n",
    "cdate = datetime.datetime.strftime(datetime.datetime.now(),\"%m_%d\")"
   ]
  },
  {
   "cell_type": "code",
   "execution_count": 235,
   "metadata": {
    "collapsed": false
   },
   "outputs": [],
   "source": [
    "if USE_CUDA:\n",
    "    encoder = encoder.cpu()\n",
    "    decoder = decoder.cpu()\n",
    "torch.save(encoder.state_dict(), 'models/enc_params_'+cdate+'.pkl')\n",
    "torch.save(decoder.state_dict(), 'models/dec_params_'+cdate+'.pkl')"
   ]
  },
  {
   "cell_type": "code",
   "execution_count": null,
   "metadata": {
    "collapsed": true
   },
   "outputs": [],
   "source": []
  }
 ],
 "metadata": {
  "kernelspec": {
   "display_name": "Python 3",
   "language": "python",
   "name": "python3"
  },
  "language_info": {
   "codemirror_mode": {
    "name": "ipython",
    "version": 3
   },
   "file_extension": ".py",
   "mimetype": "text/x-python",
   "name": "python",
   "nbconvert_exporter": "python",
   "pygments_lexer": "ipython3",
   "version": "3.5.2"
  }
 },
 "nbformat": 4,
 "nbformat_minor": 2
}
