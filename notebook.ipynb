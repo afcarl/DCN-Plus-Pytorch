{
 "cells": [
  {
   "cell_type": "code",
   "execution_count": 1,
   "metadata": {
    "collapsed": false
   },
   "outputs": [],
   "source": [
    "import torch\n",
    "import torch.nn as nn\n",
    "from torch.autograd import Variable\n",
    "import torch.optim as optim\n",
    "import torch.nn.functional as F\n",
    "import numpy as np\n",
    "import gensim\n",
    "import pickle\n",
    "USE_CUDA = torch.cuda.is_available()\n",
    "\n",
    "from data import load_squad_data,preprop,getBatch,pad_to_batch\n",
    "from model import CoattentionEncoder, DynamicDecoder"
   ]
  },
  {
   "cell_type": "code",
   "execution_count": 2,
   "metadata": {
    "collapsed": true
   },
   "outputs": [],
   "source": [
    "MAX_LEN=400"
   ]
  },
  {
   "cell_type": "code",
   "execution_count": 3,
   "metadata": {
    "collapsed": false,
    "scrolled": true
   },
   "outputs": [
    {
     "name": "stdout",
     "output_type": "stream",
     "text": [
      "Skipped 761, 86655 question/answer\n",
      "Successfully Build 114855 vocabs\n",
      "Preprop Complete!\n"
     ]
    }
   ],
   "source": [
    "dataset = load_squad_data('dataset/train-v1.1.json',MAX_LEN)\n",
    "word2index,train_data = preprop(dataset)"
   ]
  },
  {
   "cell_type": "code",
   "execution_count": 4,
   "metadata": {
    "collapsed": false
   },
   "outputs": [],
   "source": [
    "pickle.dump(word2index,open('dataset/vocab.squad','wb'))\n",
    "pickle.dump(train_data,open('dataset/train.squad','wb'))"
   ]
  },
  {
   "cell_type": "code",
   "execution_count": null,
   "metadata": {
    "collapsed": false
   },
   "outputs": [],
   "source": [
    "%%time\n",
    "#python3 -m gensim.scripts.glove2word2vec --input  glove.840B.300d.txt --output glove.840B.300d.w2vformat.txt\n",
    "model = gensim.models.KeyedVectors.load_word2vec_format('dataset/glove.840B.300d.w2vformat.txt')"
   ]
  },
  {
   "cell_type": "code",
   "execution_count": 5,
   "metadata": {
    "collapsed": false
   },
   "outputs": [
    {
     "name": "stdout",
     "output_type": "stream",
     "text": [
      "22527 92328\n"
     ]
    }
   ],
   "source": [
    "# oov=[]\n",
    "# for k in word2index.keys():\n",
    "#     if k not in ['<pad>','<unk>','<s>','</s>'] and model.vocab.get(k) is None:\n",
    "#         oov.append(k)\n",
    "# for o in oov:\n",
    "#     word2index.pop(o)\n",
    "# print(len(oov),len(word2index))"
   ]
  },
  {
   "cell_type": "code",
   "execution_count": null,
   "metadata": {
    "collapsed": false
   },
   "outputs": [],
   "source": [
    "pretrained = []\n",
    "\n",
    "for i in range(len(word2index)):\n",
    "    try:\n",
    "        pretrained.append(model[word2index[i]])\n",
    "    except:\n",
    "        pretrained.append(np.zeros(300))\n",
    "        \n",
    "pretrained_vectors = np.vstack(pretrained)"
   ]
  },
  {
   "cell_type": "code",
   "execution_count": 5,
   "metadata": {
    "collapsed": false
   },
   "outputs": [],
   "source": [
    "# del oov\n",
    "# del pretrained\n",
    "# del model\n",
    "\n",
    "# word2index,train_data = preprop(dataset,word2index)"
   ]
  },
  {
   "cell_type": "code",
   "execution_count": 5,
   "metadata": {
    "collapsed": false
   },
   "outputs": [],
   "source": [
    "RESTORE=True\n",
    "EMBED_SIZE=300\n",
    "HIDDEN_SIZE=200\n",
    "MAXOUT_POOL=4\n",
    "MAX_ITER=4\n",
    "BATCH_SIZE=64\n",
    "STEP=20\n",
    "LR=0.001\n",
    "encoder = CoattentionEncoder(len(word2index),EMBED_SIZE,HIDDEN_SIZE)\n",
    "decoder = DynamicDecoder(HIDDEN_SIZE,MAXOUT_POOL,max_iter=MAX_ITER)\n",
    "if RESTORE is False:\n",
    "    encoder.init_embed(pretrained_vectors,is_static=False)\n",
    "\n",
    "if RESTORE:\n",
    "    encoder.load_state_dict(torch.load('models/enc_params.pkl'))\n",
    "    decoder.load_state_dict(torch.load('models/dec_params.pkl'))\n",
    "\n",
    "if USE_CUDA:\n",
    "    encoder.use_cuda=True\n",
    "    decoder.use_cuda=True\n",
    "    encoder = encoder.cuda()\n",
    "    decoder = decoder.cuda()\n",
    "loss_function = nn.CrossEntropyLoss()\n",
    "enc_optim = optim.Adam(filter(lambda p: p.requires_grad, encoder.parameters()),lr=LR)\n",
    "dec_optim = optim.Adam(decoder.parameters(),lr=LR)"
   ]
  },
  {
   "cell_type": "code",
   "execution_count": 125,
   "metadata": {
    "collapsed": true
   },
   "outputs": [],
   "source": [
    "LR=0.00001\n",
    "STEP=10\n",
    "enc_optim = optim.Adam(filter(lambda p: p.requires_grad, encoder.parameters()),lr=LR)\n",
    "dec_optim = optim.Adam(decoder.parameters(),lr=LR*5)"
   ]
  },
  {
   "cell_type": "code",
   "execution_count": 126,
   "metadata": {
    "collapsed": false
   },
   "outputs": [
    {
     "name": "stdout",
     "output_type": "stream",
     "text": [
      "[0/10] [0/1353] loss : 4.921\n",
      "[0/10] [100/1353] loss : 5.015\n",
      "[0/10] [200/1353] loss : 5.150\n",
      "[0/10] [300/1353] loss : 5.116\n",
      "[0/10] [400/1353] loss : 5.094\n",
      "[0/10] [500/1353] loss : 5.113\n",
      "[0/10] [600/1353] loss : 5.069\n",
      "[0/10] [700/1353] loss : 5.080\n",
      "[0/10] [800/1353] loss : 5.013\n",
      "[0/10] [900/1353] loss : 5.058\n",
      "[0/10] [1000/1353] loss : 5.037\n",
      "[0/10] [1100/1353] loss : 5.041\n",
      "[0/10] [1200/1353] loss : 5.062\n",
      "[0/10] [1300/1353] loss : 4.981\n",
      "[1/10] [0/1353] loss : 4.770\n",
      "[1/10] [100/1353] loss : 4.985\n",
      "[1/10] [200/1353] loss : 4.981\n",
      "[1/10] [300/1353] loss : 5.025\n",
      "[1/10] [400/1353] loss : 5.004\n",
      "[1/10] [500/1353] loss : 5.014\n",
      "[1/10] [600/1353] loss : 5.074\n",
      "[1/10] [700/1353] loss : 5.054\n",
      "[1/10] [800/1353] loss : 4.995\n",
      "[1/10] [900/1353] loss : 5.058\n",
      "[1/10] [1000/1353] loss : 4.999\n",
      "[1/10] [1100/1353] loss : 5.064\n",
      "[1/10] [1200/1353] loss : 5.097\n",
      "[1/10] [1300/1353] loss : 5.023\n",
      "[2/10] [0/1353] loss : 4.827\n",
      "[2/10] [100/1353] loss : 5.024\n",
      "[2/10] [200/1353] loss : 4.906\n",
      "[2/10] [300/1353] loss : 5.029\n",
      "[2/10] [400/1353] loss : 5.093\n",
      "[2/10] [500/1353] loss : 5.059\n",
      "[2/10] [600/1353] loss : 5.013\n",
      "[2/10] [700/1353] loss : 5.039\n",
      "[2/10] [800/1353] loss : 5.018\n",
      "[2/10] [900/1353] loss : 4.983\n",
      "[2/10] [1000/1353] loss : 4.924\n",
      "[2/10] [1100/1353] loss : 5.003\n",
      "[2/10] [1200/1353] loss : 5.042\n",
      "[2/10] [1300/1353] loss : 4.974\n",
      "[3/10] [0/1353] loss : 5.535\n",
      "[3/10] [100/1353] loss : 4.996\n",
      "[3/10] [200/1353] loss : 5.026\n",
      "[3/10] [300/1353] loss : 4.992\n",
      "[3/10] [400/1353] loss : 4.932\n",
      "[3/10] [500/1353] loss : 5.061\n",
      "[3/10] [600/1353] loss : 5.062\n",
      "[3/10] [700/1353] loss : 5.033\n",
      "[3/10] [800/1353] loss : 5.003\n",
      "[3/10] [900/1353] loss : 4.956\n",
      "[3/10] [1000/1353] loss : 4.955\n",
      "[3/10] [1100/1353] loss : 4.884\n",
      "[3/10] [1200/1353] loss : 4.910\n",
      "[3/10] [1300/1353] loss : 4.974\n",
      "[4/10] [0/1353] loss : 5.243\n",
      "[4/10] [100/1353] loss : 4.895\n",
      "[4/10] [200/1353] loss : 5.022\n",
      "[4/10] [300/1353] loss : 5.020\n",
      "[4/10] [400/1353] loss : 4.969\n",
      "[4/10] [500/1353] loss : 4.944\n",
      "[4/10] [600/1353] loss : 4.975\n",
      "[4/10] [700/1353] loss : 4.928\n",
      "[4/10] [800/1353] loss : 4.996\n",
      "[4/10] [900/1353] loss : 5.059\n",
      "[4/10] [1000/1353] loss : 5.005\n",
      "[4/10] [1100/1353] loss : 4.879\n",
      "[4/10] [1200/1353] loss : 4.993\n",
      "[4/10] [1300/1353] loss : 4.963\n",
      "[5/10] [0/1353] loss : 4.702\n",
      "[5/10] [100/1353] loss : 4.903\n",
      "[5/10] [200/1353] loss : 4.944\n",
      "[5/10] [300/1353] loss : 4.910\n",
      "[5/10] [400/1353] loss : 4.990\n",
      "[5/10] [500/1353] loss : 4.969\n",
      "[5/10] [600/1353] loss : 4.950\n",
      "[5/10] [700/1353] loss : 4.961\n",
      "[5/10] [800/1353] loss : 4.936\n",
      "[5/10] [900/1353] loss : 4.922\n",
      "[5/10] [1000/1353] loss : 4.933\n",
      "[5/10] [1100/1353] loss : 4.983\n",
      "[5/10] [1200/1353] loss : 4.983\n",
      "[5/10] [1300/1353] loss : 4.975\n",
      "[6/10] [0/1353] loss : 5.115\n",
      "[6/10] [100/1353] loss : 4.940\n",
      "[6/10] [200/1353] loss : 4.905\n",
      "[6/10] [300/1353] loss : 4.939\n",
      "[6/10] [400/1353] loss : 4.900\n",
      "[6/10] [500/1353] loss : 4.982\n",
      "[6/10] [600/1353] loss : 4.883\n",
      "[6/10] [700/1353] loss : 4.938\n"
     ]
    },
    {
     "ename": "KeyboardInterrupt",
     "evalue": "",
     "output_type": "error",
     "traceback": [
      "\u001b[0;31m---------------------------------------------------------------------------\u001b[0m",
      "\u001b[0;31mKeyboardInterrupt\u001b[0m                         Traceback (most recent call last)",
      "\u001b[0;32m<ipython-input-126-e71d36e884a8>\u001b[0m in \u001b[0;36m<module>\u001b[0;34m()\u001b[0m\n\u001b[1;32m     17\u001b[0m         \u001b[0mloss\u001b[0m \u001b[0;34m=\u001b[0m \u001b[0mloss_start\u001b[0m\u001b[0;34m+\u001b[0m\u001b[0mloss_end\u001b[0m\u001b[0;34m\u001b[0m\u001b[0m\n\u001b[1;32m     18\u001b[0m         \u001b[0mlosses\u001b[0m\u001b[0;34m.\u001b[0m\u001b[0mappend\u001b[0m\u001b[0;34m(\u001b[0m\u001b[0mloss\u001b[0m\u001b[0;34m.\u001b[0m\u001b[0mdata\u001b[0m\u001b[0;34m[\u001b[0m\u001b[0;36m0\u001b[0m\u001b[0;34m]\u001b[0m\u001b[0;34m)\u001b[0m\u001b[0;34m\u001b[0m\u001b[0m\n\u001b[0;32m---> 19\u001b[0;31m         \u001b[0mloss\u001b[0m\u001b[0;34m.\u001b[0m\u001b[0mbackward\u001b[0m\u001b[0;34m(\u001b[0m\u001b[0;34m)\u001b[0m\u001b[0;34m\u001b[0m\u001b[0m\n\u001b[0m\u001b[1;32m     20\u001b[0m         \u001b[0;31m#torch.nn.utils.clip_grad_norm(encoder.parameters(), 50) # gradient clipping\u001b[0m\u001b[0;34m\u001b[0m\u001b[0;34m\u001b[0m\u001b[0m\n\u001b[1;32m     21\u001b[0m         \u001b[0;31m#torch.nn.utils.clip_grad_norm(decoder.parameters(), 50)\u001b[0m\u001b[0;34m\u001b[0m\u001b[0;34m\u001b[0m\u001b[0m\n",
      "\u001b[0;32m/usr/local/lib/python3.5/dist-packages/torch/autograd/variable.py\u001b[0m in \u001b[0;36mbackward\u001b[0;34m(self, gradient, retain_graph, create_graph, retain_variables)\u001b[0m\n\u001b[1;32m    165\u001b[0m                 \u001b[0mVariable\u001b[0m\u001b[0;34m.\u001b[0m\u001b[0;34m\u001b[0m\u001b[0m\n\u001b[1;32m    166\u001b[0m         \"\"\"\n\u001b[0;32m--> 167\u001b[0;31m         \u001b[0mtorch\u001b[0m\u001b[0;34m.\u001b[0m\u001b[0mautograd\u001b[0m\u001b[0;34m.\u001b[0m\u001b[0mbackward\u001b[0m\u001b[0;34m(\u001b[0m\u001b[0mself\u001b[0m\u001b[0;34m,\u001b[0m \u001b[0mgradient\u001b[0m\u001b[0;34m,\u001b[0m \u001b[0mretain_graph\u001b[0m\u001b[0;34m,\u001b[0m \u001b[0mcreate_graph\u001b[0m\u001b[0;34m,\u001b[0m \u001b[0mretain_variables\u001b[0m\u001b[0;34m)\u001b[0m\u001b[0;34m\u001b[0m\u001b[0m\n\u001b[0m\u001b[1;32m    168\u001b[0m \u001b[0;34m\u001b[0m\u001b[0m\n\u001b[1;32m    169\u001b[0m     \u001b[0;32mdef\u001b[0m \u001b[0mregister_hook\u001b[0m\u001b[0;34m(\u001b[0m\u001b[0mself\u001b[0m\u001b[0;34m,\u001b[0m \u001b[0mhook\u001b[0m\u001b[0;34m)\u001b[0m\u001b[0;34m:\u001b[0m\u001b[0;34m\u001b[0m\u001b[0m\n",
      "\u001b[0;32m/usr/local/lib/python3.5/dist-packages/torch/autograd/__init__.py\u001b[0m in \u001b[0;36mbackward\u001b[0;34m(variables, grad_variables, retain_graph, create_graph, retain_variables)\u001b[0m\n\u001b[1;32m     97\u001b[0m \u001b[0;34m\u001b[0m\u001b[0m\n\u001b[1;32m     98\u001b[0m     Variable._execution_engine.run_backward(\n\u001b[0;32m---> 99\u001b[0;31m         variables, grad_variables, retain_graph)\n\u001b[0m\u001b[1;32m    100\u001b[0m \u001b[0;34m\u001b[0m\u001b[0m\n\u001b[1;32m    101\u001b[0m \u001b[0;34m\u001b[0m\u001b[0m\n",
      "\u001b[0;31mKeyboardInterrupt\u001b[0m: "
     ]
    }
   ],
   "source": [
    "for step in range(STEP):\n",
    "    losses=[]\n",
    "    for i,batch in enumerate(getBatch(BATCH_SIZE,train_data)):\n",
    "        documents,questions,starts,ends = pad_to_batch(batch,word2index)\n",
    "\n",
    "        encoder.zero_grad()\n",
    "        decoder.zero_grad()\n",
    "        U = encoder(documents,questions,True)\n",
    "        _,_,entropies = decoder(U,True)\n",
    "\n",
    "        s_ents, e_ents = list(zip(*entropies)) # x MAX_ITER\n",
    "        loss_start,loss_end=0,0\n",
    "        for m in range(MAX_ITER+1):\n",
    "            loss_start+=loss_function(s_ents[m],starts.view(-1))\n",
    "            loss_end+=loss_function(s_ents[m],ends.view(-1))\n",
    "\n",
    "        loss = loss_start+loss_end\n",
    "        losses.append(loss.data[0])\n",
    "        loss.backward()\n",
    "        #torch.nn.utils.clip_grad_norm(encoder.parameters(), 50) # gradient clipping\n",
    "        #torch.nn.utils.clip_grad_norm(decoder.parameters(), 50) \n",
    "        enc_optim.step()\n",
    "        dec_optim.step()\n",
    "        \n",
    "        if i % 100 == 0:\n",
    "            print(\"[%d/%d] [%d/%d] loss : %.3f\" % (step,STEP,i,len(train_data)//BATCH_SIZE,np.mean(losses)))\n",
    "            losses=[]"
   ]
  },
  {
   "cell_type": "markdown",
   "metadata": {},
   "source": [
    "### Test "
   ]
  },
  {
   "cell_type": "code",
   "execution_count": 6,
   "metadata": {
    "collapsed": true
   },
   "outputs": [],
   "source": [
    "import random\n",
    "index2word={v:k for k,v in word2index.items()}"
   ]
  },
  {
   "cell_type": "code",
   "execution_count": 155,
   "metadata": {
    "collapsed": true
   },
   "outputs": [],
   "source": [
    "encoder = encoder.cuda()\n",
    "decoder = decoder.cuda()"
   ]
  },
  {
   "cell_type": "code",
   "execution_count": 157,
   "metadata": {
    "collapsed": false
   },
   "outputs": [
    {
     "name": "stdout",
     "output_type": "stream",
     "text": [
      "Sky UK Limited ( formerly British Sky Broadcasting or BSkyB ) is a British telecommunications company which serves the United Kingdom . Sky provides television and broadband internet services and fixed line telephone services to consumers and businesses in the United Kingdom . It is the UK 's largest pay-TV broadcaster with 11 million customers as of 2015 . It was the UK 's most popular digital TV service until it was overtaken by Freeview in April 2007 . Its corporate headquarters are based in <unk> .\n",
      " \n",
      "How many customers does Sky UK Limited have as a pay-TV broadcaster as of 2015 ?\n",
      " \n",
      "Prediction :  million\n",
      "Groud Truth :  11 million\n"
     ]
    }
   ],
   "source": [
    "test = random.choice(test_data)\n",
    "\n",
    "U = encoder(test[0],test[1])\n",
    "s,e,entropies = decoder(U)\n",
    "\n",
    "#         s_ents, e_ents = list(zip(*entropies)) \n",
    "test_paragraph=[index2word[p] for p in test[0].data.tolist()[0]]\n",
    "print(\" \".join(test_paragraph))\n",
    "print(\" \")\n",
    "print(\" \".join([index2word[p] for p in test[1].data.tolist()[0]]))\n",
    "print(\" \")\n",
    "print(\"Prediction : \",\" \".join(test_paragraph[s.data[0]:e.data[0]+1]))\n",
    "print(\"Groud Truth : \",\" \".join(test_paragraph[test[2].data.tolist()[0][0]:test[3].data.tolist()[0][0]+1]))"
   ]
  },
  {
   "cell_type": "code",
   "execution_count": 57,
   "metadata": {
    "collapsed": false
   },
   "outputs": [
    {
     "name": "stdout",
     "output_type": "stream",
     "text": [
      "Skipped 177, 10384 question/answer\n",
      "Successfully Build 114855 vocabs\n",
      "Preprop Complete!\n"
     ]
    }
   ],
   "source": [
    "test_data = load_squad_data('./dataset/dev-v1.1.json')\n",
    "word2index, test_data = preprop(test_data,word2index)"
   ]
  },
  {
   "cell_type": "code",
   "execution_count": 159,
   "metadata": {
    "collapsed": false
   },
   "outputs": [
    {
     "name": "stdout",
     "output_type": "stream",
     "text": [
      "0.06666666666666667\n"
     ]
    }
   ],
   "source": [
    "overlap=0\n",
    "predicted=0\n",
    "truth=0\n",
    "\n",
    "for test in test_data:\n",
    "    U = encoder(test[0],test[1])\n",
    "    s,e,entropies = decoder(U)\n",
    "    \n",
    "    pred_span = list(range(s.data[0],e.data[0]+1))\n",
    "    truth_span = list(range(test[2].squeeze(0).data[0],test[3].squeeze(0).data[0]+1))\n",
    "    overlap+=len(set(truth_span) & set(pred_span))\n",
    "    predicted+=len(pred_span)\n",
    "    truth+=len(truth_span)\n",
    "#     break\n",
    "precision = overlap/predicted\n",
    "recall = overlap/truth\n",
    "\n",
    "f1_score = 2*precision*recall/(precision+recall)\n",
    "print(f1_score)"
   ]
  },
  {
   "cell_type": "code",
   "execution_count": 151,
   "metadata": {
    "collapsed": false
   },
   "outputs": [],
   "source": [
    "import datetime\n",
    "cdate = datetime.datetime.strftime(datetime.datetime.now(),\"%m_%d\")"
   ]
  },
  {
   "cell_type": "code",
   "execution_count": 235,
   "metadata": {
    "collapsed": false
   },
   "outputs": [],
   "source": [
    "if USE_CUDA:\n",
    "    encoder = encoder.cpu()\n",
    "    decoder = decoder.cpu()\n",
    "torch.save(encoder.state_dict(), 'models/enc_params_'+cdate+'.pkl')\n",
    "torch.save(decoder.state_dict(), 'models/dec_params_'+cdate+'.pkl')"
   ]
  },
  {
   "cell_type": "code",
   "execution_count": null,
   "metadata": {
    "collapsed": true
   },
   "outputs": [],
   "source": []
  }
 ],
 "metadata": {
  "kernelspec": {
   "display_name": "Python 3",
   "language": "python",
   "name": "python3"
  },
  "language_info": {
   "codemirror_mode": {
    "name": "ipython",
    "version": 3
   },
   "file_extension": ".py",
   "mimetype": "text/x-python",
   "name": "python",
   "nbconvert_exporter": "python",
   "pygments_lexer": "ipython3",
   "version": "3.5.2"
  }
 },
 "nbformat": 4,
 "nbformat_minor": 2
}
