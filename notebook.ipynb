{
 "cells": [
  {
   "cell_type": "code",
   "execution_count": 1,
   "metadata": {
    "collapsed": false
   },
   "outputs": [],
   "source": [
    "import torch\n",
    "import torch.nn as nn\n",
    "from torch.autograd import Variable\n",
    "import torch.optim as optim\n",
    "import torch.nn.functional as F\n",
    "import numpy as np\n",
    "import gensim\n",
    "import pickle\n",
    "USE_CUDA = torch.cuda.is_available()\n",
    "\n",
    "from data import load_squad_data,preprop,getBatch,pad_to_batch\n",
    "from model import CoattentionEncoder, DynamicDecoder"
   ]
  },
  {
   "cell_type": "code",
   "execution_count": 2,
   "metadata": {
    "collapsed": true
   },
   "outputs": [],
   "source": [
    "MAX_LEN=400"
   ]
  },
  {
   "cell_type": "code",
   "execution_count": 3,
   "metadata": {
    "collapsed": false,
    "scrolled": true
   },
   "outputs": [
    {
     "name": "stdout",
     "output_type": "stream",
     "text": [
      "Skipped 761, 86655 question/answer\n",
      "Successfully Build 114853 vocabs\n",
      "Preprop Complete!\n"
     ]
    }
   ],
   "source": [
    "dataset = load_squad_data('dataset/train-v1.1.json',MAX_LEN)\n",
    "word2index,train_data = preprop(dataset)"
   ]
  },
  {
   "cell_type": "code",
   "execution_count": 4,
   "metadata": {
    "collapsed": false
   },
   "outputs": [],
   "source": [
    "pickle.dump(word2index,open('dataset/vocab.squad','wb'))\n",
    "pickle.dump(train_data,open('dataset/train.squad','wb'))"
   ]
  },
  {
   "cell_type": "code",
   "execution_count": 4,
   "metadata": {
    "collapsed": false
   },
   "outputs": [
    {
     "name": "stdout",
     "output_type": "stream",
     "text": [
      "CPU times: user 5min 40s, sys: 7.74 s, total: 5min 47s\n",
      "Wall time: 9min 35s\n"
     ]
    }
   ],
   "source": [
    "%%time\n",
    "#python3 -m gensim.scripts.glove2word2vec --input  glove.840B.300d.txt --output glove.840B.300d.w2vformat.txt\n",
    "model = gensim.models.KeyedVectors.load_word2vec_format('dataset/glove.840B.300d.w2vformat.txt')"
   ]
  },
  {
   "cell_type": "code",
   "execution_count": 5,
   "metadata": {
    "collapsed": false
   },
   "outputs": [
    {
     "name": "stdout",
     "output_type": "stream",
     "text": [
      "22529 / 114853\n"
     ]
    }
   ],
   "source": [
    "pretrained = []\n",
    "oov_idx=[]\n",
    "\n",
    "for i,key in enumerate(word2index.keys()):\n",
    "    try:\n",
    "        pretrained.append(model[key])\n",
    "    except:\n",
    "        pretrained.append(np.zeros(300))\n",
    "        oov_idx.append(i)\n",
    "        \n",
    "pretrained_vectors = np.vstack(pretrained)\n",
    "print(len(oov_idx),\"/\",len(word2index))"
   ]
  },
  {
   "cell_type": "code",
   "execution_count": 4,
   "metadata": {
    "collapsed": false
   },
   "outputs": [],
   "source": [
    "RESTORE=True\n",
    "EMBED_SIZE=300\n",
    "HIDDEN_SIZE=200\n",
    "MAXOUT_POOL=4\n",
    "MAX_ITER=4\n",
    "BATCH_SIZE=32\n",
    "STEP=50\n",
    "LR=0.001\n",
    "encoder = CoattentionEncoder(len(word2index),EMBED_SIZE,HIDDEN_SIZE)\n",
    "decoder = DynamicDecoder(HIDDEN_SIZE,MAXOUT_POOL,max_iter=MAX_ITER)\n",
    "if RESTORE is False:\n",
    "    encoder.init_embed(pretrained_vectors,is_static=False)\n",
    "\n",
    "if RESTORE:\n",
    "    encoder.load_state_dict(torch.load('models/enc_params_01_24.pkl'))\n",
    "    decoder.load_state_dict(torch.load('models/dec_params_01_24.pkl'))\n",
    "\n",
    "if USE_CUDA:\n",
    "    encoder.use_cuda=True\n",
    "    decoder.use_cuda=True\n",
    "    encoder = encoder.cuda()\n",
    "    decoder = decoder.cuda()\n",
    "loss_function = nn.CrossEntropyLoss()\n",
    "enc_optim = optim.Adam(filter(lambda p: p.requires_grad, encoder.parameters()),lr=LR)\n",
    "dec_optim = optim.Adam(decoder.parameters(),lr=LR)"
   ]
  },
  {
   "cell_type": "code",
   "execution_count": 5,
   "metadata": {
    "collapsed": true
   },
   "outputs": [],
   "source": [
    "LR=0.0001\n",
    "STEP=10\n",
    "enc_optim = optim.Adam(filter(lambda p: p.requires_grad, encoder.parameters()),lr=LR)\n",
    "dec_optim = optim.Adam(decoder.parameters(),lr=LR*5)"
   ]
  },
  {
   "cell_type": "code",
   "execution_count": 7,
   "metadata": {
    "collapsed": false
   },
   "outputs": [
    {
     "name": "stdout",
     "output_type": "stream",
     "text": [
      "[0/10] [0/2707] loss : 4.710\n",
      "[0/10] [100/2707] loss : 4.169\n",
      "[0/10] [200/2707] loss : 4.159\n",
      "[0/10] [300/2707] loss : 4.214\n",
      "[0/10] [400/2707] loss : 4.162\n",
      "[0/10] [500/2707] loss : 4.126\n",
      "[0/10] [600/2707] loss : 4.079\n",
      "[0/10] [700/2707] loss : 4.134\n",
      "[0/10] [800/2707] loss : 4.136\n",
      "[0/10] [900/2707] loss : 4.089\n",
      "[0/10] [1000/2707] loss : 4.127\n",
      "[0/10] [1100/2707] loss : 4.194\n",
      "[0/10] [1200/2707] loss : 4.063\n",
      "[0/10] [1300/2707] loss : 4.131\n",
      "[0/10] [1400/2707] loss : 4.211\n",
      "[0/10] [1500/2707] loss : 4.145\n",
      "[0/10] [1600/2707] loss : 4.173\n",
      "[0/10] [1700/2707] loss : 4.165\n",
      "[0/10] [1800/2707] loss : 4.186\n",
      "[0/10] [1900/2707] loss : 4.070\n",
      "[0/10] [2000/2707] loss : 4.235\n",
      "[0/10] [2100/2707] loss : 4.133\n",
      "[0/10] [2200/2707] loss : 4.208\n",
      "[0/10] [2300/2707] loss : 4.142\n",
      "[0/10] [2400/2707] loss : 4.115\n",
      "[0/10] [2500/2707] loss : 4.163\n",
      "[0/10] [2600/2707] loss : 4.168\n",
      "[0/10] [2700/2707] loss : 4.119\n",
      "[1/10] [0/2707] loss : 4.484\n",
      "[1/10] [100/2707] loss : 4.087\n",
      "[1/10] [200/2707] loss : 4.069\n",
      "[1/10] [300/2707] loss : 4.227\n",
      "[1/10] [400/2707] loss : 4.095\n",
      "[1/10] [500/2707] loss : 4.069\n",
      "[1/10] [600/2707] loss : 4.108\n",
      "[1/10] [700/2707] loss : 4.088\n",
      "[1/10] [800/2707] loss : 4.065\n",
      "[1/10] [900/2707] loss : 4.195\n",
      "[1/10] [1000/2707] loss : 4.177\n",
      "[1/10] [1100/2707] loss : 4.154\n",
      "[1/10] [1200/2707] loss : 4.163\n",
      "[1/10] [1300/2707] loss : 4.129\n",
      "[1/10] [1400/2707] loss : 4.224\n",
      "[1/10] [1500/2707] loss : 4.126\n",
      "[1/10] [1600/2707] loss : 4.182\n",
      "[1/10] [1700/2707] loss : 4.085\n",
      "[1/10] [1800/2707] loss : 4.236\n",
      "[1/10] [1900/2707] loss : 4.179\n",
      "[1/10] [2000/2707] loss : 4.188\n",
      "[1/10] [2100/2707] loss : 4.238\n",
      "[1/10] [2200/2707] loss : 4.118\n",
      "[1/10] [2300/2707] loss : 4.115\n",
      "[1/10] [2400/2707] loss : 4.188\n",
      "[1/10] [2500/2707] loss : 4.149\n",
      "[1/10] [2600/2707] loss : 4.147\n",
      "[1/10] [2700/2707] loss : 4.131\n",
      "[2/10] [0/2707] loss : 5.170\n",
      "[2/10] [100/2707] loss : 4.220\n",
      "[2/10] [200/2707] loss : 4.099\n",
      "[2/10] [300/2707] loss : 4.105\n",
      "[2/10] [400/2707] loss : 4.180\n",
      "[2/10] [500/2707] loss : 4.031\n",
      "[2/10] [600/2707] loss : 4.154\n",
      "[2/10] [700/2707] loss : 4.130\n",
      "[2/10] [800/2707] loss : 4.157\n",
      "[2/10] [900/2707] loss : 4.116\n",
      "[2/10] [1000/2707] loss : 4.107\n",
      "[2/10] [1100/2707] loss : 4.127\n",
      "[2/10] [1200/2707] loss : 4.213\n",
      "[2/10] [1300/2707] loss : 4.163\n",
      "[2/10] [1400/2707] loss : 4.162\n",
      "[2/10] [1500/2707] loss : 4.066\n",
      "[2/10] [1600/2707] loss : 4.135\n",
      "[2/10] [1700/2707] loss : 4.144\n",
      "[2/10] [1800/2707] loss : 4.100\n",
      "[2/10] [1900/2707] loss : 4.049\n",
      "[2/10] [2000/2707] loss : 4.152\n",
      "[2/10] [2100/2707] loss : 4.094\n",
      "[2/10] [2200/2707] loss : 4.095\n",
      "[2/10] [2300/2707] loss : 4.101\n",
      "[2/10] [2400/2707] loss : 4.131\n",
      "[2/10] [2500/2707] loss : 4.109\n",
      "[2/10] [2600/2707] loss : 4.060\n",
      "[2/10] [2700/2707] loss : 4.063\n",
      "[3/10] [0/2707] loss : 4.456\n",
      "[3/10] [100/2707] loss : 4.092\n",
      "[3/10] [200/2707] loss : 4.043\n",
      "[3/10] [300/2707] loss : 4.060\n",
      "[3/10] [400/2707] loss : 4.138\n",
      "[3/10] [500/2707] loss : 4.096\n",
      "[3/10] [600/2707] loss : 4.085\n",
      "[3/10] [700/2707] loss : 4.062\n",
      "[3/10] [800/2707] loss : 4.134\n",
      "[3/10] [900/2707] loss : 4.112\n",
      "[3/10] [1000/2707] loss : 4.110\n",
      "[3/10] [1100/2707] loss : 4.162\n",
      "[3/10] [1200/2707] loss : 4.069\n",
      "[3/10] [1300/2707] loss : 4.194\n",
      "[3/10] [1400/2707] loss : 4.066\n",
      "[3/10] [1500/2707] loss : 4.041\n",
      "[3/10] [1600/2707] loss : 4.091\n",
      "[3/10] [1700/2707] loss : 4.054\n",
      "[3/10] [1800/2707] loss : 4.147\n"
     ]
    },
    {
     "ename": "KeyboardInterrupt",
     "evalue": "",
     "output_type": "error",
     "traceback": [
      "\u001b[0;31m\u001b[0m",
      "\u001b[0;31mKeyboardInterrupt\u001b[0mTraceback (most recent call last)",
      "\u001b[0;32m<ipython-input-7-0f0a7ab14afa>\u001b[0m in \u001b[0;36m<module>\u001b[0;34m()\u001b[0m\n\u001b[1;32m      7\u001b[0m         \u001b[0mdecoder\u001b[0m\u001b[0;34m.\u001b[0m\u001b[0mzero_grad\u001b[0m\u001b[0;34m(\u001b[0m\u001b[0;34m)\u001b[0m\u001b[0;34m\u001b[0m\u001b[0m\n\u001b[1;32m      8\u001b[0m         \u001b[0mU\u001b[0m \u001b[0;34m=\u001b[0m \u001b[0mencoder\u001b[0m\u001b[0;34m(\u001b[0m\u001b[0mdocuments\u001b[0m\u001b[0;34m,\u001b[0m\u001b[0mquestions\u001b[0m\u001b[0;34m,\u001b[0m\u001b[0mdoc_lens\u001b[0m\u001b[0;34m,\u001b[0m\u001b[0mquestion_lens\u001b[0m\u001b[0;34m,\u001b[0m\u001b[0;32mTrue\u001b[0m\u001b[0;34m)\u001b[0m\u001b[0;34m\u001b[0m\u001b[0m\n\u001b[0;32m----> 9\u001b[0;31m         \u001b[0m_\u001b[0m\u001b[0;34m,\u001b[0m\u001b[0m_\u001b[0m\u001b[0;34m,\u001b[0m\u001b[0mentropies\u001b[0m \u001b[0;34m=\u001b[0m \u001b[0mdecoder\u001b[0m\u001b[0;34m(\u001b[0m\u001b[0mU\u001b[0m\u001b[0;34m,\u001b[0m\u001b[0;32mTrue\u001b[0m\u001b[0;34m)\u001b[0m\u001b[0;34m\u001b[0m\u001b[0m\n\u001b[0m\u001b[1;32m     10\u001b[0m \u001b[0;34m\u001b[0m\u001b[0m\n\u001b[1;32m     11\u001b[0m         \u001b[0ms_ents\u001b[0m\u001b[0;34m,\u001b[0m \u001b[0me_ents\u001b[0m \u001b[0;34m=\u001b[0m \u001b[0mlist\u001b[0m\u001b[0;34m(\u001b[0m\u001b[0mzip\u001b[0m\u001b[0;34m(\u001b[0m\u001b[0;34m*\u001b[0m\u001b[0mentropies\u001b[0m\u001b[0;34m)\u001b[0m\u001b[0;34m)\u001b[0m \u001b[0;31m# x MAX_ITER\u001b[0m\u001b[0;34m\u001b[0m\u001b[0m\n",
      "\u001b[0;32m/usr/local/lib/python3.5/dist-packages/torch/nn/modules/module.py\u001b[0m in \u001b[0;36m__call__\u001b[0;34m(self, *input, **kwargs)\u001b[0m\n\u001b[1;32m    323\u001b[0m         \u001b[0;32mfor\u001b[0m \u001b[0mhook\u001b[0m \u001b[0;32min\u001b[0m \u001b[0mself\u001b[0m\u001b[0;34m.\u001b[0m\u001b[0m_forward_pre_hooks\u001b[0m\u001b[0;34m.\u001b[0m\u001b[0mvalues\u001b[0m\u001b[0;34m(\u001b[0m\u001b[0;34m)\u001b[0m\u001b[0;34m:\u001b[0m\u001b[0;34m\u001b[0m\u001b[0m\n\u001b[1;32m    324\u001b[0m             \u001b[0mhook\u001b[0m\u001b[0;34m(\u001b[0m\u001b[0mself\u001b[0m\u001b[0;34m,\u001b[0m \u001b[0minput\u001b[0m\u001b[0;34m)\u001b[0m\u001b[0;34m\u001b[0m\u001b[0m\n\u001b[0;32m--> 325\u001b[0;31m         \u001b[0mresult\u001b[0m \u001b[0;34m=\u001b[0m \u001b[0mself\u001b[0m\u001b[0;34m.\u001b[0m\u001b[0mforward\u001b[0m\u001b[0;34m(\u001b[0m\u001b[0;34m*\u001b[0m\u001b[0minput\u001b[0m\u001b[0;34m,\u001b[0m \u001b[0;34m**\u001b[0m\u001b[0mkwargs\u001b[0m\u001b[0;34m)\u001b[0m\u001b[0;34m\u001b[0m\u001b[0m\n\u001b[0m\u001b[1;32m    326\u001b[0m         \u001b[0;32mfor\u001b[0m \u001b[0mhook\u001b[0m \u001b[0;32min\u001b[0m \u001b[0mself\u001b[0m\u001b[0;34m.\u001b[0m\u001b[0m_forward_hooks\u001b[0m\u001b[0;34m.\u001b[0m\u001b[0mvalues\u001b[0m\u001b[0;34m(\u001b[0m\u001b[0;34m)\u001b[0m\u001b[0;34m:\u001b[0m\u001b[0;34m\u001b[0m\u001b[0m\n\u001b[1;32m    327\u001b[0m             \u001b[0mhook_result\u001b[0m \u001b[0;34m=\u001b[0m \u001b[0mhook\u001b[0m\u001b[0;34m(\u001b[0m\u001b[0mself\u001b[0m\u001b[0;34m,\u001b[0m \u001b[0minput\u001b[0m\u001b[0;34m,\u001b[0m \u001b[0mresult\u001b[0m\u001b[0;34m)\u001b[0m\u001b[0;34m\u001b[0m\u001b[0m\n",
      "\u001b[0;32m/notebooks/work/DCN-Plus-Pytorch/model.py\u001b[0m in \u001b[0;36mforward\u001b[0;34m(self, U, is_training)\u001b[0m\n\u001b[1;32m    199\u001b[0m             \u001b[0mbetas\u001b[0m\u001b[0;34m=\u001b[0m\u001b[0;34m[\u001b[0m\u001b[0;34m]\u001b[0m\u001b[0;34m\u001b[0m\u001b[0m\n\u001b[1;32m    200\u001b[0m             \u001b[0;32mfor\u001b[0m \u001b[0mu_t\u001b[0m \u001b[0;32min\u001b[0m \u001b[0mU\u001b[0m\u001b[0;34m.\u001b[0m\u001b[0mtranspose\u001b[0m\u001b[0;34m(\u001b[0m\u001b[0;36m0\u001b[0m\u001b[0;34m,\u001b[0m\u001b[0;36m1\u001b[0m\u001b[0;34m)\u001b[0m\u001b[0;34m:\u001b[0m\u001b[0;34m\u001b[0m\u001b[0m\n\u001b[0;32m--> 201\u001b[0;31m                 \u001b[0mbetas\u001b[0m\u001b[0;34m.\u001b[0m\u001b[0mappend\u001b[0m\u001b[0;34m(\u001b[0m\u001b[0mself\u001b[0m\u001b[0;34m.\u001b[0m\u001b[0mhmn_end\u001b[0m\u001b[0;34m(\u001b[0m\u001b[0mu_t\u001b[0m\u001b[0;34m,\u001b[0m\u001b[0mu_s\u001b[0m\u001b[0;34m,\u001b[0m\u001b[0mu_e\u001b[0m\u001b[0;34m,\u001b[0m\u001b[0mhidden\u001b[0m\u001b[0;34m[\u001b[0m\u001b[0;36m0\u001b[0m\u001b[0;34m]\u001b[0m\u001b[0;34m)\u001b[0m\u001b[0;34m)\u001b[0m\u001b[0;34m\u001b[0m\u001b[0m\n\u001b[0m\u001b[1;32m    202\u001b[0m             \u001b[0mbeta\u001b[0m \u001b[0;34m=\u001b[0m \u001b[0mtorch\u001b[0m\u001b[0;34m.\u001b[0m\u001b[0mcat\u001b[0m\u001b[0;34m(\u001b[0m\u001b[0mbetas\u001b[0m\u001b[0;34m,\u001b[0m\u001b[0;36m1\u001b[0m\u001b[0;34m)\u001b[0m\u001b[0;34m\u001b[0m\u001b[0m\n\u001b[1;32m    203\u001b[0m             \u001b[0mentropy\u001b[0m\u001b[0;34m.\u001b[0m\u001b[0mappend\u001b[0m\u001b[0;34m(\u001b[0m\u001b[0mbeta\u001b[0m\u001b[0;34m)\u001b[0m\u001b[0;34m\u001b[0m\u001b[0m\n",
      "\u001b[0;32m/usr/local/lib/python3.5/dist-packages/torch/nn/modules/module.py\u001b[0m in \u001b[0;36m__call__\u001b[0;34m(self, *input, **kwargs)\u001b[0m\n\u001b[1;32m    323\u001b[0m         \u001b[0;32mfor\u001b[0m \u001b[0mhook\u001b[0m \u001b[0;32min\u001b[0m \u001b[0mself\u001b[0m\u001b[0;34m.\u001b[0m\u001b[0m_forward_pre_hooks\u001b[0m\u001b[0;34m.\u001b[0m\u001b[0mvalues\u001b[0m\u001b[0;34m(\u001b[0m\u001b[0;34m)\u001b[0m\u001b[0;34m:\u001b[0m\u001b[0;34m\u001b[0m\u001b[0m\n\u001b[1;32m    324\u001b[0m             \u001b[0mhook\u001b[0m\u001b[0;34m(\u001b[0m\u001b[0mself\u001b[0m\u001b[0;34m,\u001b[0m \u001b[0minput\u001b[0m\u001b[0;34m)\u001b[0m\u001b[0;34m\u001b[0m\u001b[0m\n\u001b[0;32m--> 325\u001b[0;31m         \u001b[0mresult\u001b[0m \u001b[0;34m=\u001b[0m \u001b[0mself\u001b[0m\u001b[0;34m.\u001b[0m\u001b[0mforward\u001b[0m\u001b[0;34m(\u001b[0m\u001b[0;34m*\u001b[0m\u001b[0minput\u001b[0m\u001b[0;34m,\u001b[0m \u001b[0;34m**\u001b[0m\u001b[0mkwargs\u001b[0m\u001b[0;34m)\u001b[0m\u001b[0;34m\u001b[0m\u001b[0m\n\u001b[0m\u001b[1;32m    326\u001b[0m         \u001b[0;32mfor\u001b[0m \u001b[0mhook\u001b[0m \u001b[0;32min\u001b[0m \u001b[0mself\u001b[0m\u001b[0;34m.\u001b[0m\u001b[0m_forward_hooks\u001b[0m\u001b[0;34m.\u001b[0m\u001b[0mvalues\u001b[0m\u001b[0;34m(\u001b[0m\u001b[0;34m)\u001b[0m\u001b[0;34m:\u001b[0m\u001b[0;34m\u001b[0m\u001b[0m\n\u001b[1;32m    327\u001b[0m             \u001b[0mhook_result\u001b[0m \u001b[0;34m=\u001b[0m \u001b[0mhook\u001b[0m\u001b[0;34m(\u001b[0m\u001b[0mself\u001b[0m\u001b[0;34m,\u001b[0m \u001b[0minput\u001b[0m\u001b[0;34m,\u001b[0m \u001b[0mresult\u001b[0m\u001b[0;34m)\u001b[0m\u001b[0;34m\u001b[0m\u001b[0m\n",
      "\u001b[0;32m/notebooks/work/DCN-Plus-Pytorch/model.py\u001b[0m in \u001b[0;36mforward\u001b[0;34m(self, u_t, u_s, u_e, h)\u001b[0m\n\u001b[1;32m    149\u001b[0m         \u001b[0mm_1\u001b[0m \u001b[0;34m=\u001b[0m \u001b[0mself\u001b[0m\u001b[0;34m.\u001b[0m\u001b[0mW_1\u001b[0m\u001b[0;34m(\u001b[0m\u001b[0mtorch\u001b[0m\u001b[0;34m.\u001b[0m\u001b[0mcat\u001b[0m\u001b[0;34m(\u001b[0m\u001b[0;34m[\u001b[0m\u001b[0mu_t\u001b[0m\u001b[0;34m,\u001b[0m\u001b[0mr\u001b[0m\u001b[0;34m]\u001b[0m\u001b[0;34m,\u001b[0m\u001b[0;36m1\u001b[0m\u001b[0;34m)\u001b[0m\u001b[0;34m)\u001b[0m\u001b[0;34m\u001b[0m\u001b[0m\n\u001b[1;32m    150\u001b[0m         \u001b[0mm_2\u001b[0m \u001b[0;34m=\u001b[0m \u001b[0mself\u001b[0m\u001b[0;34m.\u001b[0m\u001b[0mW_2\u001b[0m\u001b[0;34m(\u001b[0m\u001b[0mm_1\u001b[0m\u001b[0;34m)\u001b[0m\u001b[0;34m\u001b[0m\u001b[0m\n\u001b[0;32m--> 151\u001b[0;31m         \u001b[0mm_3\u001b[0m \u001b[0;34m=\u001b[0m \u001b[0mself\u001b[0m\u001b[0;34m.\u001b[0m\u001b[0mW_3\u001b[0m\u001b[0;34m(\u001b[0m\u001b[0mtorch\u001b[0m\u001b[0;34m.\u001b[0m\u001b[0mcat\u001b[0m\u001b[0;34m(\u001b[0m\u001b[0;34m[\u001b[0m\u001b[0mm_1\u001b[0m\u001b[0;34m,\u001b[0m\u001b[0mm_2\u001b[0m\u001b[0;34m]\u001b[0m\u001b[0;34m,\u001b[0m\u001b[0;36m1\u001b[0m\u001b[0;34m)\u001b[0m\u001b[0;34m)\u001b[0m\u001b[0;34m\u001b[0m\u001b[0m\n\u001b[0m\u001b[1;32m    152\u001b[0m \u001b[0;34m\u001b[0m\u001b[0m\n\u001b[1;32m    153\u001b[0m         \u001b[0;32mreturn\u001b[0m \u001b[0mm_3\u001b[0m\u001b[0;34m\u001b[0m\u001b[0m\n",
      "\u001b[0;31mKeyboardInterrupt\u001b[0m: "
     ]
    }
   ],
   "source": [
    "for step in range(STEP):\n",
    "    losses=[]\n",
    "    for i,batch in enumerate(getBatch(BATCH_SIZE,train_data)):\n",
    "        documents,questions,doc_lens,question_lens,starts,ends = pad_to_batch(batch,word2index)\n",
    "\n",
    "        encoder.zero_grad()\n",
    "        decoder.zero_grad()\n",
    "        U = encoder(documents,questions,doc_lens,question_lens,True)\n",
    "        _,_,entropies = decoder(U,True)\n",
    "\n",
    "        s_ents, e_ents = list(zip(*entropies)) # x MAX_ITER\n",
    "        loss_start,loss_end=0,0\n",
    "        for m in range(len(entropies)):\n",
    "            loss_start+=loss_function(s_ents[m],starts.view(-1))\n",
    "            loss_end+=loss_function(s_ents[m],ends.view(-1))\n",
    "\n",
    "        loss = loss_start+loss_end\n",
    "        losses.append(loss.data[0])\n",
    "        loss.backward()\n",
    "        #torch.nn.utils.clip_grad_norm(encoder.parameters(), 50) # gradient clipping\n",
    "        #torch.nn.utils.clip_grad_norm(decoder.parameters(), 50) \n",
    "        enc_optim.step()\n",
    "        dec_optim.step()\n",
    "        \n",
    "        if i % 100 == 0:\n",
    "            print(\"[%d/%d] [%d/%d] loss : %.3f\" % (step,STEP,i,len(train_data)//BATCH_SIZE,np.mean(losses)))\n",
    "            losses=[]"
   ]
  },
  {
   "cell_type": "markdown",
   "metadata": {},
   "source": [
    "### Test "
   ]
  },
  {
   "cell_type": "code",
   "execution_count": 8,
   "metadata": {
    "collapsed": true
   },
   "outputs": [],
   "source": [
    "import random\n",
    "index2word={v:k for k,v in word2index.items()}"
   ]
  },
  {
   "cell_type": "code",
   "execution_count": 9,
   "metadata": {
    "collapsed": true
   },
   "outputs": [],
   "source": [
    "encoder = encoder.cuda()\n",
    "decoder = decoder.cuda()"
   ]
  },
  {
   "cell_type": "code",
   "execution_count": 10,
   "metadata": {
    "collapsed": false
   },
   "outputs": [
    {
     "name": "stdout",
     "output_type": "stream",
     "text": [
      "Skipped 177, 10384 question/answer\n",
      "Successfully Build 114853 vocabs\n",
      "Preprop Complete!\n"
     ]
    }
   ],
   "source": [
    "test_data = load_squad_data('./dataset/dev-v1.1.json')\n",
    "word2index, test_data = preprop(test_data,word2index)"
   ]
  },
  {
   "cell_type": "code",
   "execution_count": 102,
   "metadata": {
    "collapsed": false
   },
   "outputs": [
    {
     "name": "stdout",
     "output_type": "stream",
     "text": [
      "In June 1989 , Nintendo of America 's vice president of marketing Peter Main , said that the Famicom was present in 37 % of Japan 's households . By 1990 , 30 % of American households owned the NES , compared to 23 % for all personal computers . By 1990 , the NES had outsold all previously released consoles worldwide . [ better source needed ] The slogan for this brand was It ca n't be beaten . In Europe and South America , however , the NES was outsold by Sega 's Master System , while the Nintendo Entertainment System was not available in the Soviet Union .\n",
      " \n",
      "Where was Nintendo not available ?\n",
      " \n",
      "Prediction :  Soviet Union\n",
      "Groud Truth :  Soviet Union\n"
     ]
    }
   ],
   "source": [
    "test = random.choice(train_data)\n",
    "\n",
    "U = encoder(test[0],test[1],torch.LongTensor([test[0].size(1)]).cuda(),torch.LongTensor([test[1].size(1)]).cuda())\n",
    "s,e,entropies = decoder(U)\n",
    "\n",
    "#         s_ents, e_ents = list(zip(*entropies)) \n",
    "test_paragraph=[index2word[p] for p in test[0].data.cpu().tolist()[0]]\n",
    "print(\" \".join(test_paragraph))\n",
    "print(\" \")\n",
    "print(\" \".join([index2word[p] for p in test[1].data.cpu().tolist()[0]]))\n",
    "print(\" \")\n",
    "if s.data[0]<=e.data[0]:\n",
    "    print(\"Prediction : \",\" \".join(test_paragraph[s.data[0]:e.data[0]+1]))\n",
    "else:\n",
    "    print(\"Prediction : \",\" \".join(test_paragraph[e.data[0]:s.data[0]+1]))\n",
    "print(\"Groud Truth : \",\" \".join(test_paragraph[test[2].data.tolist()[0][0]:test[3].data.tolist()[0][0]+1]))"
   ]
  },
  {
   "cell_type": "code",
   "execution_count": null,
   "metadata": {
    "collapsed": false
   },
   "outputs": [],
   "source": [
    "overlap=0\n",
    "predicted=0\n",
    "truth=0\n",
    "\n",
    "for test in test_data:\n",
    "    U = encoder(test[0],test[1])\n",
    "    s,e,entropies = decoder(U)\n",
    "    \n",
    "    pred_span = list(range(s.data[0],e.data[0]+1))\n",
    "    truth_span = list(range(test[2].squeeze(0).data[0],test[3].squeeze(0).data[0]+1))\n",
    "    overlap+=len(set(truth_span) & set(pred_span))\n",
    "    predicted+=len(pred_span)\n",
    "    truth+=len(truth_span)\n",
    "#     break\n",
    "precision = overlap/predicted\n",
    "recall = overlap/truth\n",
    "\n",
    "f1_score = 2*precision*recall/(precision+recall)\n",
    "print(f1_score)"
   ]
  },
  {
   "cell_type": "code",
   "execution_count": 103,
   "metadata": {
    "collapsed": false
   },
   "outputs": [],
   "source": [
    "import datetime\n",
    "cdate = datetime.datetime.strftime(datetime.datetime.now(),\"%m_%d\")"
   ]
  },
  {
   "cell_type": "code",
   "execution_count": 104,
   "metadata": {
    "collapsed": false
   },
   "outputs": [],
   "source": [
    "if USE_CUDA:\n",
    "    encoder = encoder.cpu()\n",
    "    decoder = decoder.cpu()\n",
    "torch.save(encoder.state_dict(), 'models/enc_params_'+cdate+'.pkl')\n",
    "torch.save(decoder.state_dict(), 'models/dec_params_'+cdate+'.pkl')"
   ]
  },
  {
   "cell_type": "code",
   "execution_count": null,
   "metadata": {
    "collapsed": true
   },
   "outputs": [],
   "source": []
  }
 ],
 "metadata": {
  "kernelspec": {
   "display_name": "Python 3",
   "language": "python",
   "name": "python3"
  },
  "language_info": {
   "codemirror_mode": {
    "name": "ipython",
    "version": 3
   },
   "file_extension": ".py",
   "mimetype": "text/x-python",
   "name": "python",
   "nbconvert_exporter": "python",
   "pygments_lexer": "ipython3",
   "version": "3.5.2"
  }
 },
 "nbformat": 4,
 "nbformat_minor": 2
}
