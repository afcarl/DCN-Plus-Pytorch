{
 "cells": [
  {
   "cell_type": "code",
   "execution_count": 1,
   "metadata": {
    "collapsed": false
   },
   "outputs": [],
   "source": [
    "import torch\n",
    "import torch.nn as nn\n",
    "from torch.autograd import Variable\n",
    "import torch.optim as optim\n",
    "import torch.nn.functional as F\n",
    "import numpy as np\n",
    "import gensim\n",
    "USE_CUDA = torch.cuda.is_available()\n",
    "\n",
    "from data import load_squad_data,preprop,getBatch,pad_to_batch\n",
    "from model import CoattentionEncoder, DynamicDecoder"
   ]
  },
  {
   "cell_type": "code",
   "execution_count": 2,
   "metadata": {
    "collapsed": true
   },
   "outputs": [],
   "source": [
    "MAX_LEN=400"
   ]
  },
  {
   "cell_type": "code",
   "execution_count": 3,
   "metadata": {
    "collapsed": false
   },
   "outputs": [
    {
     "name": "stdout",
     "output_type": "stream",
     "text": [
      "Skipped 800, 86655 question/answer\n",
      "Successfully Build 114855 vocabs\n",
      "Preprop Complete!\n"
     ]
    }
   ],
   "source": [
    "dataset = load_squad_data('dataset/train-v1.1.json',MAX_LEN)\n",
    "word2index,train_data = preprop(dataset)"
   ]
  },
  {
   "cell_type": "code",
   "execution_count": 4,
   "metadata": {
    "collapsed": false
   },
   "outputs": [
    {
     "name": "stdout",
     "output_type": "stream",
     "text": [
      "CPU times: user 5min 29s, sys: 3.07 s, total: 5min 32s\n",
      "Wall time: 5min 25s\n"
     ]
    }
   ],
   "source": [
    "%%time\n",
    "#python3 -m gensim.scripts.glove2word2vec --input  glove.840B.300d.txt --output glove.840B.300d.w2vformat.txt\n",
    "model = gensim.models.KeyedVectors.load_word2vec_format('dataset/glove.840B.300d.w2vformat.txt')"
   ]
  },
  {
   "cell_type": "code",
   "execution_count": 5,
   "metadata": {
    "collapsed": false
   },
   "outputs": [
    {
     "name": "stdout",
     "output_type": "stream",
     "text": [
      "22527 92328\n"
     ]
    }
   ],
   "source": [
    "# oov=[]\n",
    "# for k in word2index.keys():\n",
    "#     if k not in ['<pad>','<unk>','<s>','</s>'] and model.vocab.get(k) is None:\n",
    "#         oov.append(k)\n",
    "# for o in oov:\n",
    "#     word2index.pop(o)\n",
    "# print(len(oov),len(word2index))"
   ]
  },
  {
   "cell_type": "code",
   "execution_count": 5,
   "metadata": {
    "collapsed": false
   },
   "outputs": [],
   "source": [
    "pretrained = []\n",
    "\n",
    "for i in range(len(word2index)):\n",
    "    try:\n",
    "        pretrained.append(model[word2index[i]])\n",
    "    except:\n",
    "        pretrained.append(np.random.randn(300))\n",
    "        \n",
    "pretrained_vectors = np.vstack(pretrained)"
   ]
  },
  {
   "cell_type": "code",
   "execution_count": 7,
   "metadata": {
    "collapsed": false
   },
   "outputs": [
    {
     "name": "stdout",
     "output_type": "stream",
     "text": [
      "Successfully Build 92328 vocabs\n",
      "Preprop Complete!\n"
     ]
    }
   ],
   "source": [
    "# del oov\n",
    "# del pretrained\n",
    "# del model\n",
    "\n",
    "# word2index,train_data = preprop(dataset,word2index)"
   ]
  },
  {
   "cell_type": "code",
   "execution_count": 6,
   "metadata": {
    "collapsed": false
   },
   "outputs": [],
   "source": [
    "EMBED_SIZE=300\n",
    "HIDDEN_SIZE=200\n",
    "MAXOUT_POOL=4\n",
    "MAX_ITER=4\n",
    "BATCH_SIZE=32\n",
    "STEP=100\n",
    "LR=0.001\n",
    "encoder = CoattentionEncoder(len(word2index),EMBED_SIZE,HIDDEN_SIZE,pretrained_wvectors=pretrained_vectors,is_static=False,use_cuda=USE_CUDA)\n",
    "decoder = DynamicDecoder(HIDDEN_SIZE,MAXOUT_POOL,max_iter=MAX_ITER,use_cuda=USE_CUDA)\n",
    "\n",
    "loss_function = nn.CrossEntropyLoss()\n",
    "enc_optim = optim.Adam(filter(lambda p: p.requires_grad, encoder.parameters()),lr=LR)\n",
    "dec_optim = optim.Adam(decoder.parameters(),lr=LR)"
   ]
  },
  {
   "cell_type": "code",
   "execution_count": null,
   "metadata": {
    "collapsed": false
   },
   "outputs": [
    {
     "name": "stdout",
     "output_type": "stream",
     "text": [
      "[0/100] [0/2707] loss : 46.285\n",
      "[0/100] [100/2707] loss : 37.049\n",
      "[0/100] [200/2707] loss : 34.712\n",
      "[0/100] [300/2707] loss : 33.723\n",
      "[0/100] [400/2707] loss : 33.253\n",
      "[0/100] [500/2707] loss : 33.097\n",
      "[0/100] [600/2707] loss : 32.402\n",
      "[0/100] [700/2707] loss : 32.549\n",
      "[0/100] [800/2707] loss : 31.742\n",
      "[0/100] [900/2707] loss : 31.806\n",
      "[0/100] [1000/2707] loss : 31.342\n",
      "[0/100] [1100/2707] loss : 31.173\n",
      "[0/100] [1200/2707] loss : 30.844\n",
      "[0/100] [1300/2707] loss : 30.326\n",
      "[0/100] [1400/2707] loss : 30.153\n",
      "[0/100] [1500/2707] loss : 29.546\n",
      "[0/100] [1600/2707] loss : 29.212\n",
      "[0/100] [1700/2707] loss : 28.608\n",
      "[0/100] [1800/2707] loss : 28.547\n",
      "[0/100] [1900/2707] loss : 27.499\n",
      "[0/100] [2000/2707] loss : 27.465\n",
      "[0/100] [2100/2707] loss : 26.664\n",
      "[0/100] [2200/2707] loss : 26.101\n",
      "[0/100] [2300/2707] loss : 24.922\n",
      "[0/100] [2400/2707] loss : 24.971\n",
      "[0/100] [2500/2707] loss : 23.863\n",
      "[0/100] [2600/2707] loss : 23.626\n",
      "[0/100] [2700/2707] loss : 23.464\n",
      "[1/100] [0/2707] loss : 24.473\n",
      "[1/100] [100/2707] loss : 22.435\n",
      "[1/100] [200/2707] loss : 21.628\n",
      "[1/100] [300/2707] loss : 21.550\n",
      "[1/100] [400/2707] loss : 21.819\n",
      "[1/100] [500/2707] loss : 21.794\n",
      "[1/100] [600/2707] loss : 21.545\n",
      "[1/100] [700/2707] loss : 21.642\n",
      "[1/100] [800/2707] loss : 21.450\n",
      "[1/100] [900/2707] loss : 21.899\n",
      "[1/100] [1000/2707] loss : 21.558\n",
      "[1/100] [1100/2707] loss : 21.210\n",
      "[1/100] [1200/2707] loss : 21.167\n",
      "[1/100] [1300/2707] loss : 20.976\n",
      "[1/100] [1400/2707] loss : 21.645\n",
      "[1/100] [1500/2707] loss : 20.824\n",
      "[1/100] [1600/2707] loss : 20.901\n",
      "[1/100] [1700/2707] loss : 20.732\n",
      "[1/100] [1800/2707] loss : 21.236\n",
      "[1/100] [1900/2707] loss : 20.943\n",
      "[1/100] [2000/2707] loss : 21.163\n",
      "[1/100] [2100/2707] loss : 20.967\n",
      "[1/100] [2200/2707] loss : 20.629\n",
      "[1/100] [2300/2707] loss : 20.433\n",
      "[1/100] [2400/2707] loss : 20.926\n",
      "[1/100] [2500/2707] loss : 20.749\n",
      "[1/100] [2600/2707] loss : 20.720\n",
      "[1/100] [2700/2707] loss : 20.723\n",
      "[2/100] [0/2707] loss : 18.486\n",
      "[2/100] [100/2707] loss : 18.968\n",
      "[2/100] [200/2707] loss : 19.187\n",
      "[2/100] [300/2707] loss : 19.018\n",
      "[2/100] [400/2707] loss : 19.229\n",
      "[2/100] [500/2707] loss : 19.110\n",
      "[2/100] [600/2707] loss : 19.128\n",
      "[2/100] [700/2707] loss : 19.389\n",
      "[2/100] [800/2707] loss : 19.648\n",
      "[2/100] [900/2707] loss : 19.004\n",
      "[2/100] [1000/2707] loss : 19.754\n",
      "[2/100] [1100/2707] loss : 19.840\n",
      "[2/100] [1200/2707] loss : 19.228\n",
      "[2/100] [1300/2707] loss : 19.234\n",
      "[2/100] [1400/2707] loss : 19.397\n",
      "[2/100] [1500/2707] loss : 19.649\n",
      "[2/100] [1600/2707] loss : 19.542\n",
      "[2/100] [1700/2707] loss : 19.236\n",
      "[2/100] [1800/2707] loss : 19.537\n",
      "[2/100] [1900/2707] loss : 19.336\n",
      "[2/100] [2000/2707] loss : 19.373\n",
      "[2/100] [2100/2707] loss : 19.402\n",
      "[2/100] [2200/2707] loss : 19.436\n",
      "[2/100] [2300/2707] loss : 19.536\n",
      "[2/100] [2400/2707] loss : 19.184\n",
      "[2/100] [2500/2707] loss : 19.559\n",
      "[2/100] [2600/2707] loss : 19.440\n",
      "[2/100] [2700/2707] loss : 19.420\n",
      "[3/100] [0/2707] loss : 17.845\n",
      "[3/100] [100/2707] loss : 18.236\n",
      "[3/100] [200/2707] loss : 18.033\n",
      "[3/100] [300/2707] loss : 18.565\n",
      "[3/100] [400/2707] loss : 18.034\n",
      "[3/100] [500/2707] loss : 18.074\n",
      "[3/100] [600/2707] loss : 17.829\n",
      "[3/100] [700/2707] loss : 17.962\n",
      "[3/100] [800/2707] loss : 18.513\n",
      "[3/100] [900/2707] loss : 18.127\n",
      "[3/100] [1000/2707] loss : 18.324\n",
      "[3/100] [1100/2707] loss : 18.321\n",
      "[3/100] [1200/2707] loss : 18.030\n",
      "[3/100] [1300/2707] loss : 18.135\n"
     ]
    }
   ],
   "source": [
    "for step in range(STEP):\n",
    "    losses=[]\n",
    "    for i,batch in enumerate(getBatch(BATCH_SIZE,train_data)):\n",
    "        documents,questions,starts,ends = pad_to_batch(batch,word2index)\n",
    "\n",
    "        encoder.zero_grad()\n",
    "        decoder.zero_grad()\n",
    "        U = encoder(documents,questions,True)\n",
    "        _,_,entropies = decoder(U,True)\n",
    "\n",
    "        s_ents, e_ents = list(zip(*entropies)) # x MAX_ITER\n",
    "        loss_start,loss_end=0,0\n",
    "        for m in range(MAX_ITER):\n",
    "            loss_start+=loss_function(s_ents[m],starts.view(-1))\n",
    "            loss_end+=loss_function(s_ents[m],ends.view(-1))\n",
    "\n",
    "        loss = loss_start+loss_end\n",
    "        losses.append(loss.data[0])\n",
    "        loss.backward()\n",
    "        torch.nn.utils.clip_grad_norm(encoder.parameters(), 10) # gradient clipping\n",
    "        torch.nn.utils.clip_grad_norm(decoder.parameters(), 10) \n",
    "        enc_optim.step()\n",
    "        dec_optim.step()\n",
    "        \n",
    "        if i % 100 == 0:\n",
    "            print(\"[%d/%d] [%d/%d] loss : %.3f\" % (step,STEP,i,len(train_data)//BATCH_SIZE,np.mean(losses)))\n",
    "            losses=[]"
   ]
  },
  {
   "cell_type": "code",
   "execution_count": null,
   "metadata": {
    "collapsed": true
   },
   "outputs": [],
   "source": []
  }
 ],
 "metadata": {
  "kernelspec": {
   "display_name": "Python 3",
   "language": "python",
   "name": "python3"
  },
  "language_info": {
   "codemirror_mode": {
    "name": "ipython",
    "version": 3
   },
   "file_extension": ".py",
   "mimetype": "text/x-python",
   "name": "python",
   "nbconvert_exporter": "python",
   "pygments_lexer": "ipython3",
   "version": "3.5.2"
  }
 },
 "nbformat": 4,
 "nbformat_minor": 2
}
