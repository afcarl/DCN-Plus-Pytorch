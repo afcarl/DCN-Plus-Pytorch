{
 "cells": [
  {
   "cell_type": "code",
   "execution_count": 1,
   "metadata": {
    "collapsed": false
   },
   "outputs": [],
   "source": [
    "import torch\n",
    "import torch.nn as nn\n",
    "from torch.autograd import Variable\n",
    "import torch.optim as optim\n",
    "import torch.nn.functional as F\n",
    "import numpy as np\n",
    "import gensim\n",
    "import pickle\n",
    "USE_CUDA = torch.cuda.is_available()\n",
    "\n",
    "from data import load_squad_data,preprop,getBatch,pad_to_batch\n",
    "from model import CoattentionEncoder, DynamicDecoder"
   ]
  },
  {
   "cell_type": "code",
   "execution_count": 2,
   "metadata": {
    "collapsed": true
   },
   "outputs": [],
   "source": [
    "MAX_LEN=400"
   ]
  },
  {
   "cell_type": "code",
   "execution_count": 3,
   "metadata": {
    "collapsed": false
   },
   "outputs": [
    {
     "name": "stdout",
     "output_type": "stream",
     "text": [
      "Skipped 761, 86655 question/answer\n",
      "Successfully Build 114855 vocabs\n",
      "Preprop Complete!\n"
     ]
    }
   ],
   "source": [
    "dataset = load_squad_data('dataset/train-v1.1.json',MAX_LEN)\n",
    "word2index,train_data = preprop(dataset)"
   ]
  },
  {
   "cell_type": "code",
   "execution_count": 4,
   "metadata": {
    "collapsed": false
   },
   "outputs": [],
   "source": [
    "pickle.dump(word2index,open('vocab.squad','wb'))\n",
    "pickle.dump(train_data,open('train.squad','wb'))"
   ]
  },
  {
   "cell_type": "code",
   "execution_count": 5,
   "metadata": {
    "collapsed": false
   },
   "outputs": [
    {
     "name": "stdout",
     "output_type": "stream",
     "text": [
      "CPU times: user 5min 16s, sys: 2.34 s, total: 5min 18s\n",
      "Wall time: 5min 29s\n"
     ]
    }
   ],
   "source": [
    "%%time\n",
    "#python3 -m gensim.scripts.glove2word2vec --input  glove.840B.300d.txt --output glove.840B.300d.w2vformat.txt\n",
    "model = gensim.models.KeyedVectors.load_word2vec_format('dataset/glove.840B.300d.w2vformat.txt')"
   ]
  },
  {
   "cell_type": "code",
   "execution_count": 5,
   "metadata": {
    "collapsed": false
   },
   "outputs": [
    {
     "name": "stdout",
     "output_type": "stream",
     "text": [
      "22527 92328\n"
     ]
    }
   ],
   "source": [
    "# oov=[]\n",
    "# for k in word2index.keys():\n",
    "#     if k not in ['<pad>','<unk>','<s>','</s>'] and model.vocab.get(k) is None:\n",
    "#         oov.append(k)\n",
    "# for o in oov:\n",
    "#     word2index.pop(o)\n",
    "# print(len(oov),len(word2index))"
   ]
  },
  {
   "cell_type": "code",
   "execution_count": 6,
   "metadata": {
    "collapsed": false
   },
   "outputs": [],
   "source": [
    "pretrained = []\n",
    "\n",
    "for i in range(len(word2index)):\n",
    "    try:\n",
    "        pretrained.append(model[word2index[i]])\n",
    "    except:\n",
    "        pretrained.append(np.random.randn(300))\n",
    "        \n",
    "pretrained_vectors = np.vstack(pretrained)"
   ]
  },
  {
   "cell_type": "code",
   "execution_count": 7,
   "metadata": {
    "collapsed": false
   },
   "outputs": [],
   "source": [
    "# del oov\n",
    "# del pretrained\n",
    "# del model\n",
    "\n",
    "# word2index,train_data = preprop(dataset,word2index)"
   ]
  },
  {
   "cell_type": "code",
   "execution_count": 8,
   "metadata": {
    "collapsed": false
   },
   "outputs": [],
   "source": [
    "RESTORE=True\n",
    "EMBED_SIZE=300\n",
    "HIDDEN_SIZE=200\n",
    "MAXOUT_POOL=4\n",
    "MAX_ITER=4\n",
    "BATCH_SIZE=32\n",
    "STEP=50\n",
    "LR=0.0001\n",
    "encoder = CoattentionEncoder(len(word2index),EMBED_SIZE,HIDDEN_SIZE)\n",
    "decoder = DynamicDecoder(HIDDEN_SIZE,MAXOUT_POOL,max_iter=MAX_ITER)\n",
    "encoder.init_embed(pretrained_vectors)\n",
    "\n",
    "if RESTORE:\n",
    "    encoder.load_state_dict(torch.load('models/enc_params.pkl'))\n",
    "    decoder.load_state_dict(torch.load('models/dec_params.pkl'))\n",
    "\n",
    "if USE_CUDA:\n",
    "    encoder.use_cuda=True\n",
    "    decoder.use_cuda=True\n",
    "    encoder = encoder.cuda()\n",
    "    decoder = decoder.cuda()\n",
    "loss_function = nn.CrossEntropyLoss()\n",
    "enc_optim = optim.Adam(filter(lambda p: p.requires_grad, encoder.parameters()),lr=LR)\n",
    "dec_optim = optim.Adam(decoder.parameters(),lr=LR)"
   ]
  },
  {
   "cell_type": "code",
   "execution_count": 14,
   "metadata": {
    "collapsed": true
   },
   "outputs": [],
   "source": [
    "LR=0.0001\n",
    "enc_optim = optim.Adam(filter(lambda p: p.requires_grad, encoder.parameters()),lr=LR)\n",
    "dec_optim = optim.Adam(decoder.parameters(),lr=LR)"
   ]
  },
  {
   "cell_type": "code",
   "execution_count": 15,
   "metadata": {
    "collapsed": false
   },
   "outputs": [
    {
     "name": "stdout",
     "output_type": "stream",
     "text": [
      "[0/50] [0/2707] loss : 6.112\n",
      "[0/50] [100/2707] loss : 5.941\n",
      "[0/50] [200/2707] loss : 5.953\n",
      "[0/50] [300/2707] loss : 6.015\n",
      "[0/50] [400/2707] loss : 5.837\n",
      "[0/50] [500/2707] loss : 5.988\n",
      "[0/50] [600/2707] loss : 5.972\n",
      "[0/50] [700/2707] loss : 5.855\n",
      "[0/50] [800/2707] loss : 6.005\n",
      "[0/50] [900/2707] loss : 5.942\n",
      "[0/50] [1000/2707] loss : 5.947\n",
      "[0/50] [1100/2707] loss : 5.976\n",
      "[0/50] [1200/2707] loss : 5.837\n",
      "[0/50] [1300/2707] loss : 5.666\n",
      "[0/50] [1400/2707] loss : 5.825\n",
      "[0/50] [1500/2707] loss : 5.771\n",
      "[0/50] [1600/2707] loss : 5.832\n",
      "[0/50] [1700/2707] loss : 5.621\n",
      "[0/50] [1800/2707] loss : 5.848\n",
      "[0/50] [1900/2707] loss : 5.834\n",
      "[0/50] [2000/2707] loss : 5.761\n",
      "[0/50] [2100/2707] loss : 5.813\n",
      "[0/50] [2200/2707] loss : 5.728\n",
      "[0/50] [2300/2707] loss : 5.652\n",
      "[0/50] [2400/2707] loss : 5.823\n",
      "[0/50] [2500/2707] loss : 5.764\n",
      "[0/50] [2600/2707] loss : 5.785\n",
      "[0/50] [2700/2707] loss : 5.880\n",
      "[1/50] [0/2707] loss : 6.744\n",
      "[1/50] [100/2707] loss : 5.777\n",
      "[1/50] [200/2707] loss : 5.873\n",
      "[1/50] [300/2707] loss : 5.620\n",
      "[1/50] [400/2707] loss : 5.658\n",
      "[1/50] [500/2707] loss : 5.841\n",
      "[1/50] [600/2707] loss : 5.611\n",
      "[1/50] [700/2707] loss : 5.658\n",
      "[1/50] [800/2707] loss : 5.690\n",
      "[1/50] [900/2707] loss : 5.639\n",
      "[1/50] [1000/2707] loss : 5.628\n",
      "[1/50] [1100/2707] loss : 5.590\n",
      "[1/50] [1200/2707] loss : 5.756\n",
      "[1/50] [1300/2707] loss : 5.620\n",
      "[1/50] [1400/2707] loss : 5.671\n",
      "[1/50] [1500/2707] loss : 5.648\n",
      "[1/50] [1600/2707] loss : 5.555\n",
      "[1/50] [1700/2707] loss : 5.588\n",
      "[1/50] [1800/2707] loss : 5.517\n",
      "[1/50] [1900/2707] loss : 5.540\n",
      "[1/50] [2000/2707] loss : 5.660\n",
      "[1/50] [2100/2707] loss : 5.622\n",
      "[1/50] [2200/2707] loss : 5.641\n",
      "[1/50] [2300/2707] loss : 5.627\n",
      "[1/50] [2400/2707] loss : 5.757\n",
      "[1/50] [2500/2707] loss : 5.907\n",
      "[1/50] [2600/2707] loss : 5.612\n",
      "[1/50] [2700/2707] loss : 5.762\n",
      "[2/50] [0/2707] loss : 4.510\n",
      "[2/50] [100/2707] loss : 5.665\n",
      "[2/50] [200/2707] loss : 5.452\n",
      "[2/50] [300/2707] loss : 5.745\n",
      "[2/50] [400/2707] loss : 5.664\n",
      "[2/50] [500/2707] loss : 5.681\n",
      "[2/50] [600/2707] loss : 5.587\n",
      "[2/50] [700/2707] loss : 5.624\n",
      "[2/50] [800/2707] loss : 5.610\n",
      "[2/50] [900/2707] loss : 5.592\n",
      "[2/50] [1000/2707] loss : 5.585\n",
      "[2/50] [1100/2707] loss : 5.560\n",
      "[2/50] [1200/2707] loss : 5.660\n",
      "[2/50] [1300/2707] loss : 5.496\n",
      "[2/50] [1400/2707] loss : 5.721\n",
      "[2/50] [1500/2707] loss : 5.620\n",
      "[2/50] [1600/2707] loss : 5.330\n",
      "[2/50] [1700/2707] loss : 5.759\n",
      "[2/50] [1800/2707] loss : 5.628\n",
      "[2/50] [1900/2707] loss : 5.547\n",
      "[2/50] [2000/2707] loss : 5.670\n",
      "[2/50] [2100/2707] loss : 5.571\n",
      "[2/50] [2200/2707] loss : 5.461\n",
      "[2/50] [2300/2707] loss : 5.539\n",
      "[2/50] [2400/2707] loss : 5.728\n",
      "[2/50] [2500/2707] loss : 5.669\n",
      "[2/50] [2600/2707] loss : 5.609\n",
      "[2/50] [2700/2707] loss : 5.425\n",
      "[3/50] [0/2707] loss : 5.785\n",
      "[3/50] [100/2707] loss : 5.361\n",
      "[3/50] [200/2707] loss : 5.460\n",
      "[3/50] [300/2707] loss : 5.537\n",
      "[3/50] [400/2707] loss : 5.436\n",
      "[3/50] [500/2707] loss : 5.610\n",
      "[3/50] [600/2707] loss : 5.593\n",
      "[3/50] [700/2707] loss : 5.445\n",
      "[3/50] [800/2707] loss : 5.569\n",
      "[3/50] [900/2707] loss : 5.449\n",
      "[3/50] [1000/2707] loss : 5.697\n",
      "[3/50] [1100/2707] loss : 5.535\n",
      "[3/50] [1200/2707] loss : 5.424\n",
      "[3/50] [1300/2707] loss : 5.522\n",
      "[3/50] [1400/2707] loss : 5.387\n",
      "[3/50] [1500/2707] loss : 5.472\n",
      "[3/50] [1600/2707] loss : 5.483\n",
      "[3/50] [1700/2707] loss : 5.480\n",
      "[3/50] [1800/2707] loss : 5.481\n",
      "[3/50] [1900/2707] loss : 5.578\n",
      "[3/50] [2000/2707] loss : 5.598\n",
      "[3/50] [2100/2707] loss : 5.515\n",
      "[3/50] [2200/2707] loss : 5.715\n",
      "[3/50] [2300/2707] loss : 5.416\n",
      "[3/50] [2400/2707] loss : 5.552\n",
      "[3/50] [2500/2707] loss : 5.450\n",
      "[3/50] [2600/2707] loss : 5.609\n",
      "[3/50] [2700/2707] loss : 5.491\n",
      "[4/50] [0/2707] loss : 6.795\n",
      "[4/50] [100/2707] loss : 5.425\n",
      "[4/50] [200/2707] loss : 5.391\n",
      "[4/50] [300/2707] loss : 5.351\n",
      "[4/50] [400/2707] loss : 5.502\n",
      "[4/50] [500/2707] loss : 5.532\n",
      "[4/50] [600/2707] loss : 5.576\n",
      "[4/50] [700/2707] loss : 5.519\n",
      "[4/50] [800/2707] loss : 5.474\n",
      "[4/50] [900/2707] loss : 5.508\n",
      "[4/50] [1000/2707] loss : 5.237\n",
      "[4/50] [1100/2707] loss : 5.404\n",
      "[4/50] [1200/2707] loss : 5.367\n",
      "[4/50] [1300/2707] loss : 5.408\n",
      "[4/50] [1400/2707] loss : 5.285\n",
      "[4/50] [1500/2707] loss : 5.567\n",
      "[4/50] [1600/2707] loss : 5.361\n",
      "[4/50] [1700/2707] loss : 5.608\n",
      "[4/50] [1800/2707] loss : 5.391\n",
      "[4/50] [1900/2707] loss : 5.444\n",
      "[4/50] [2000/2707] loss : 5.406\n",
      "[4/50] [2100/2707] loss : 5.522\n",
      "[4/50] [2200/2707] loss : 5.264\n",
      "[4/50] [2300/2707] loss : 5.647\n",
      "[4/50] [2400/2707] loss : 5.382\n",
      "[4/50] [2500/2707] loss : 5.450\n",
      "[4/50] [2600/2707] loss : 5.287\n",
      "[4/50] [2700/2707] loss : 5.486\n",
      "[5/50] [0/2707] loss : 4.477\n",
      "[5/50] [100/2707] loss : 5.404\n",
      "[5/50] [200/2707] loss : 5.486\n",
      "[5/50] [300/2707] loss : 5.271\n",
      "[5/50] [400/2707] loss : 5.417\n",
      "[5/50] [500/2707] loss : 5.443\n",
      "[5/50] [600/2707] loss : 5.237\n",
      "[5/50] [700/2707] loss : 5.362\n",
      "[5/50] [800/2707] loss : 5.451\n",
      "[5/50] [900/2707] loss : 5.493\n",
      "[5/50] [1000/2707] loss : 5.292\n",
      "[5/50] [1100/2707] loss : 5.528\n",
      "[5/50] [1200/2707] loss : 5.454\n",
      "[5/50] [1300/2707] loss : 5.395\n",
      "[5/50] [1400/2707] loss : 5.314\n",
      "[5/50] [1500/2707] loss : 5.377\n",
      "[5/50] [1600/2707] loss : 5.466\n",
      "[5/50] [1700/2707] loss : 5.382\n",
      "[5/50] [1800/2707] loss : 5.383\n",
      "[5/50] [1900/2707] loss : 5.313\n",
      "[5/50] [2000/2707] loss : 5.549\n",
      "[5/50] [2100/2707] loss : 5.264\n",
      "[5/50] [2200/2707] loss : 5.365\n",
      "[5/50] [2300/2707] loss : 5.401\n"
     ]
    },
    {
     "ename": "KeyboardInterrupt",
     "evalue": "",
     "output_type": "error",
     "traceback": [
      "\u001b[0;31m\u001b[0m",
      "\u001b[0;31mKeyboardInterrupt\u001b[0mTraceback (most recent call last)",
      "\u001b[0;32m<ipython-input-15-7931de7c592b>\u001b[0m in \u001b[0;36m<module>\u001b[0;34m()\u001b[0m\n\u001b[1;32m     17\u001b[0m         \u001b[0mloss\u001b[0m \u001b[0;34m=\u001b[0m \u001b[0mloss_start\u001b[0m\u001b[0;34m+\u001b[0m\u001b[0mloss_end\u001b[0m\u001b[0;34m\u001b[0m\u001b[0m\n\u001b[1;32m     18\u001b[0m         \u001b[0mlosses\u001b[0m\u001b[0;34m.\u001b[0m\u001b[0mappend\u001b[0m\u001b[0;34m(\u001b[0m\u001b[0mloss\u001b[0m\u001b[0;34m.\u001b[0m\u001b[0mdata\u001b[0m\u001b[0;34m[\u001b[0m\u001b[0;36m0\u001b[0m\u001b[0;34m]\u001b[0m\u001b[0;34m)\u001b[0m\u001b[0;34m\u001b[0m\u001b[0m\n\u001b[0;32m---> 19\u001b[0;31m         \u001b[0mloss\u001b[0m\u001b[0;34m.\u001b[0m\u001b[0mbackward\u001b[0m\u001b[0;34m(\u001b[0m\u001b[0;34m)\u001b[0m\u001b[0;34m\u001b[0m\u001b[0m\n\u001b[0m\u001b[1;32m     20\u001b[0m         \u001b[0mtorch\u001b[0m\u001b[0;34m.\u001b[0m\u001b[0mnn\u001b[0m\u001b[0;34m.\u001b[0m\u001b[0mutils\u001b[0m\u001b[0;34m.\u001b[0m\u001b[0mclip_grad_norm\u001b[0m\u001b[0;34m(\u001b[0m\u001b[0mencoder\u001b[0m\u001b[0;34m.\u001b[0m\u001b[0mparameters\u001b[0m\u001b[0;34m(\u001b[0m\u001b[0;34m)\u001b[0m\u001b[0;34m,\u001b[0m \u001b[0;36m10\u001b[0m\u001b[0;34m)\u001b[0m \u001b[0;31m# gradient clipping\u001b[0m\u001b[0;34m\u001b[0m\u001b[0m\n\u001b[1;32m     21\u001b[0m         \u001b[0mtorch\u001b[0m\u001b[0;34m.\u001b[0m\u001b[0mnn\u001b[0m\u001b[0;34m.\u001b[0m\u001b[0mutils\u001b[0m\u001b[0;34m.\u001b[0m\u001b[0mclip_grad_norm\u001b[0m\u001b[0;34m(\u001b[0m\u001b[0mdecoder\u001b[0m\u001b[0;34m.\u001b[0m\u001b[0mparameters\u001b[0m\u001b[0;34m(\u001b[0m\u001b[0;34m)\u001b[0m\u001b[0;34m,\u001b[0m \u001b[0;36m10\u001b[0m\u001b[0;34m)\u001b[0m\u001b[0;34m\u001b[0m\u001b[0m\n",
      "\u001b[0;32m/usr/local/lib/python3.5/dist-packages/torch/autograd/variable.py\u001b[0m in \u001b[0;36mbackward\u001b[0;34m(self, gradient, retain_graph, create_graph, retain_variables)\u001b[0m\n\u001b[1;32m    165\u001b[0m                 \u001b[0mVariable\u001b[0m\u001b[0;34m.\u001b[0m\u001b[0;34m\u001b[0m\u001b[0m\n\u001b[1;32m    166\u001b[0m         \"\"\"\n\u001b[0;32m--> 167\u001b[0;31m         \u001b[0mtorch\u001b[0m\u001b[0;34m.\u001b[0m\u001b[0mautograd\u001b[0m\u001b[0;34m.\u001b[0m\u001b[0mbackward\u001b[0m\u001b[0;34m(\u001b[0m\u001b[0mself\u001b[0m\u001b[0;34m,\u001b[0m \u001b[0mgradient\u001b[0m\u001b[0;34m,\u001b[0m \u001b[0mretain_graph\u001b[0m\u001b[0;34m,\u001b[0m \u001b[0mcreate_graph\u001b[0m\u001b[0;34m,\u001b[0m \u001b[0mretain_variables\u001b[0m\u001b[0;34m)\u001b[0m\u001b[0;34m\u001b[0m\u001b[0m\n\u001b[0m\u001b[1;32m    168\u001b[0m \u001b[0;34m\u001b[0m\u001b[0m\n\u001b[1;32m    169\u001b[0m     \u001b[0;32mdef\u001b[0m \u001b[0mregister_hook\u001b[0m\u001b[0;34m(\u001b[0m\u001b[0mself\u001b[0m\u001b[0;34m,\u001b[0m \u001b[0mhook\u001b[0m\u001b[0;34m)\u001b[0m\u001b[0;34m:\u001b[0m\u001b[0;34m\u001b[0m\u001b[0m\n",
      "\u001b[0;32m/usr/local/lib/python3.5/dist-packages/torch/autograd/__init__.py\u001b[0m in \u001b[0;36mbackward\u001b[0;34m(variables, grad_variables, retain_graph, create_graph, retain_variables)\u001b[0m\n\u001b[1;32m     97\u001b[0m \u001b[0;34m\u001b[0m\u001b[0m\n\u001b[1;32m     98\u001b[0m     Variable._execution_engine.run_backward(\n\u001b[0;32m---> 99\u001b[0;31m         variables, grad_variables, retain_graph)\n\u001b[0m\u001b[1;32m    100\u001b[0m \u001b[0;34m\u001b[0m\u001b[0m\n\u001b[1;32m    101\u001b[0m \u001b[0;34m\u001b[0m\u001b[0m\n",
      "\u001b[0;31mKeyboardInterrupt\u001b[0m: "
     ]
    }
   ],
   "source": [
    "for step in range(STEP):\n",
    "    losses=[]\n",
    "    for i,batch in enumerate(getBatch(BATCH_SIZE,train_data)):\n",
    "        documents,questions,starts,ends = pad_to_batch(batch,word2index)\n",
    "\n",
    "        encoder.zero_grad()\n",
    "        decoder.zero_grad()\n",
    "        U = encoder(documents,questions,True)\n",
    "        _,_,entropies = decoder(U,True)\n",
    "\n",
    "        s_ents, e_ents = list(zip(*entropies)) # x MAX_ITER\n",
    "        loss_start,loss_end=0,0\n",
    "        for m in range(MAX_ITER):\n",
    "            loss_start+=loss_function(s_ents[m],starts.view(-1))\n",
    "            loss_end+=loss_function(s_ents[m],ends.view(-1))\n",
    "\n",
    "        loss = loss_start+loss_end\n",
    "        losses.append(loss.data[0])\n",
    "        loss.backward()\n",
    "        torch.nn.utils.clip_grad_norm(encoder.parameters(), 10) # gradient clipping\n",
    "        torch.nn.utils.clip_grad_norm(decoder.parameters(), 10) \n",
    "        enc_optim.step()\n",
    "        dec_optim.step()\n",
    "        \n",
    "        if i % 100 == 0:\n",
    "            print(\"[%d/%d] [%d/%d] loss : %.3f\" % (step,STEP,i,len(train_data)//BATCH_SIZE,np.mean(losses)))\n",
    "            losses=[]"
   ]
  },
  {
   "cell_type": "code",
   "execution_count": 18,
   "metadata": {
    "collapsed": true
   },
   "outputs": [],
   "source": [
    "import random"
   ]
  },
  {
   "cell_type": "code",
   "execution_count": 20,
   "metadata": {
    "collapsed": true
   },
   "outputs": [],
   "source": [
    "encoder = encoder.cuda()\n",
    "decoder = decoder.cuda()"
   ]
  },
  {
   "cell_type": "code",
   "execution_count": 30,
   "metadata": {
    "collapsed": false
   },
   "outputs": [
    {
     "name": "stdout",
     "output_type": "stream",
     "text": [
      "Variable containing:\n",
      " 50\n",
      "[torch.cuda.LongTensor of size 1 (GPU 0)]\n",
      " Variable containing:\n",
      " 73\n",
      "[torch.cuda.LongTensor of size 1 (GPU 0)]\n",
      "\n",
      "Variable containing:\n",
      " 50\n",
      "[torch.cuda.LongTensor of size 1x1 (GPU 0)]\n",
      " Variable containing:\n",
      " 51\n",
      "[torch.cuda.LongTensor of size 1x1 (GPU 0)]\n",
      "\n"
     ]
    }
   ],
   "source": [
    "i = random.choice(train_data)\n",
    "\n",
    "U = encoder(i[0],i[1])\n",
    "s,e,entropies = decoder(U)\n",
    "\n",
    "#         s_ents, e_ents = list(zip(*entropies)) \n",
    "print(s,e)\n",
    "print(i[2],i[3])"
   ]
  },
  {
   "cell_type": "code",
   "execution_count": null,
   "metadata": {
    "collapsed": true
   },
   "outputs": [],
   "source": [
    "if USE_CUDA:\n",
    "    encoder = encoder.cpu()\n",
    "    decoder = decoder.cpu()\n",
    "torch.save(encoder.state_dict(), 'models/enc_params.pkl')\n",
    "torch.save(decoder.state_dict(), 'models/dec_params.pkl')"
   ]
  }
 ],
 "metadata": {
  "kernelspec": {
   "display_name": "Python 3",
   "language": "python",
   "name": "python3"
  },
  "language_info": {
   "codemirror_mode": {
    "name": "ipython",
    "version": 3
   },
   "file_extension": ".py",
   "mimetype": "text/x-python",
   "name": "python",
   "nbconvert_exporter": "python",
   "pygments_lexer": "ipython3",
   "version": "3.5.2"
  }
 },
 "nbformat": 4,
 "nbformat_minor": 2
}
