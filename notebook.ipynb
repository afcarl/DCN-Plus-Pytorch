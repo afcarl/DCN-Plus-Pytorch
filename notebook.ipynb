{
 "cells": [
  {
   "cell_type": "code",
   "execution_count": 1,
   "metadata": {
    "collapsed": false
   },
   "outputs": [],
   "source": [
    "import torch\n",
    "import torch.nn as nn\n",
    "from torch.autograd import Variable\n",
    "import torch.optim as optim\n",
    "import torch.nn.functional as F\n",
    "USE_CUDA = torch.cuda.is_available()\n",
    "\n",
    "from data import load_squad_data,preprop,getBatch,pad_to_batch\n",
    "from model import CoattentionEncoder, DynamicDecoder"
   ]
  },
  {
   "cell_type": "code",
   "execution_count": 2,
   "metadata": {
    "collapsed": false
   },
   "outputs": [
    {
     "name": "stdout",
     "output_type": "stream",
     "text": [
      "Skipped 763, 86817 question/answer\n",
      "Successfully Build 115268 vocabs\n",
      "Preprop Complete!\n"
     ]
    }
   ],
   "source": [
    "word2index,index2word,train_data = preprop(load_squad_data('train-v1.1.json'))"
   ]
  },
  {
   "cell_type": "code",
   "execution_count": 3,
   "metadata": {
    "collapsed": false
   },
   "outputs": [],
   "source": [
    "EMBED_SIE=200\n",
    "HIDDEN_SIZE=200\n",
    "MAXOUT_POOL=4\n",
    "MAX_ITER=4\n",
    "BATCH_SIZE=16\n",
    "STEP=5\n",
    "LR=0.0001\n",
    "encoder = CoattentionEncoder(len(word2index),EMBED_SIE,HIDDEN_SIZE,use_cuda=USE_CUDA)\n",
    "decoder = DynamicDecoder(HIDDEN_SIZE,MAXOUT_POOL,max_iter=MAX_ITER,use_cuda=USE_CUDA)\n",
    "\n",
    "loss_function = nn.CrossEntropyLoss(ignore_index=0)\n",
    "enc_optim = optim.Adam(encoder.parameters(),lr=LR)\n",
    "dec_optim = optim.Adam(decoder.parameters(),lr=LR)"
   ]
  },
  {
   "cell_type": "code",
   "execution_count": 4,
   "metadata": {
    "collapsed": false
   },
   "outputs": [],
   "source": [
    "for batch in getBatch(BATCH_SIZE,train_data):\n",
    "    documents,questions,starts,ends = pad_to_batch(batch,word2index)\n",
    "    \n",
    "    encoder.zero_grad()\n",
    "    decoder.zero_grad()\n",
    "    U = encoder(documents,questions,True)\n",
    "    _,_,entropies = decoder(U,True)\n",
    "    \n",
    "    s_ents, e_ents = list(zip(*entropies)) # x MAX_ITER\n",
    "    loss_start,loss_end=0,0\n",
    "    for m in range(MAX_ITER):\n",
    "        loss_start+=loss_function(s_ents[m],starts.view(-1))\n",
    "        loss_end+=loss_function(s_ents[m],ends.view(-1))\n",
    "    \n",
    "    loss = loss_start+loss_end\n",
    "    loss.backward()\n",
    "    torch.nn.utils.clip_grad_norm(encoder.parameters(), 0.5) # gradient clipping\n",
    "    torch.nn.utils.clip_grad_norm(decoder.parameters(), 0.5) \n",
    "    enc_optim.step()\n",
    "    dec_optim.step()\n",
    "    break"
   ]
  },
  {
   "cell_type": "code",
   "execution_count": null,
   "metadata": {
    "collapsed": true
   },
   "outputs": [],
   "source": []
  }
 ],
 "metadata": {
  "kernelspec": {
   "display_name": "Python 3",
   "language": "python",
   "name": "python3"
  },
  "language_info": {
   "codemirror_mode": {
    "name": "ipython",
    "version": 3
   },
   "file_extension": ".py",
   "mimetype": "text/x-python",
   "name": "python",
   "nbconvert_exporter": "python",
   "pygments_lexer": "ipython3",
   "version": "3.5.2"
  }
 },
 "nbformat": 4,
 "nbformat_minor": 2
}
